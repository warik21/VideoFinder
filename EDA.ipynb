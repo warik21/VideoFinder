{
 "cells": [
  {
   "cell_type": "code",
   "execution_count": 1,
   "metadata": {},
   "outputs": [],
   "source": [
    "import pandas as pd\n",
    "import numpy as np\n",
    "import ast\n",
    "import matplotlib.pyplot as plt"
   ]
  },
  {
   "cell_type": "code",
   "execution_count": 2,
   "metadata": {},
   "outputs": [],
   "source": [
    "similarities_df = pd.read_csv('similarities.csv', index_col=0)\n",
    "videos_df = pd.read_csv('videos_df.csv', index_col=0)\n",
    "embeddings_df = pd.read_csv('embeddings.csv', index_col=0)"
   ]
  },
  {
   "cell_type": "code",
   "execution_count": 3,
   "metadata": {},
   "outputs": [
    {
     "data": {
      "text/html": [
       "<div>\n",
       "<style scoped>\n",
       "    .dataframe tbody tr th:only-of-type {\n",
       "        vertical-align: middle;\n",
       "    }\n",
       "\n",
       "    .dataframe tbody tr th {\n",
       "        vertical-align: top;\n",
       "    }\n",
       "\n",
       "    .dataframe thead th {\n",
       "        text-align: right;\n",
       "    }\n",
       "</style>\n",
       "<table border=\"1\" class=\"dataframe\">\n",
       "  <thead>\n",
       "    <tr style=\"text-align: right;\">\n",
       "      <th></th>\n",
       "      <th>embedding_bert</th>\n",
       "      <th>embedding_mean_bert</th>\n",
       "      <th>embedding_hf</th>\n",
       "    </tr>\n",
       "    <tr>\n",
       "      <th>video_name</th>\n",
       "      <th></th>\n",
       "      <th></th>\n",
       "      <th></th>\n",
       "    </tr>\n",
       "  </thead>\n",
       "  <tbody>\n",
       "    <tr>\n",
       "      <th>DeepMind’s New AI: Assistant From The Future!</th>\n",
       "      <td>[[-4.11230952e-01 -3.07224512e-01 -1.23091914e...</td>\n",
       "      <td>[[-3.52466732e-01 -1.83229193e-01  4.56772596e...</td>\n",
       "      <td>[[-8.32884908e-02 -2.69665681e-02  3.02182939e...</td>\n",
       "    </tr>\n",
       "    <tr>\n",
       "      <th>Blender 4.1 - Create Virtual Worlds…For Free!</th>\n",
       "      <td>[[-9.96123999e-02 -3.39044273e-01  1.06826290e...</td>\n",
       "      <td>[[-4.75290045e-02 -1.54082075e-01  3.72303486e...</td>\n",
       "      <td>[[-3.85681652e-02 -2.80849040e-02  1.88307725e...</td>\n",
       "    </tr>\n",
       "    <tr>\n",
       "      <th>OpenAI Sora: Beauty And Horror!</th>\n",
       "      <td>[[-2.82204866e-01 -3.54010582e-01 -1.87018469e...</td>\n",
       "      <td>[[-7.50496238e-02 -1.62728757e-01 -4.48983237e...</td>\n",
       "      <td>[[-1.60020869e-02  2.15904936e-02 -1.71286725e...</td>\n",
       "    </tr>\n",
       "    <tr>\n",
       "      <th>OpenAI Sora Just Supercharged Filmmaking!</th>\n",
       "      <td>[[-1.08210146e-01 -2.12061957e-01 -6.52528554e...</td>\n",
       "      <td>[[-3.20733823e-02 -8.55088532e-02  1.85163632e...</td>\n",
       "      <td>[[-2.0056270e-02 -5.4418176e-02 -5.3889085e-02...</td>\n",
       "    </tr>\n",
       "    <tr>\n",
       "      <th>NVIDIA GTC: This Is The Future Of Everything!</th>\n",
       "      <td>[[-2.22307026e-01 -1.91042021e-01 -8.92981701e...</td>\n",
       "      <td>[[-2.48398125e-01 -3.30316648e-03  3.16924781e...</td>\n",
       "      <td>[[-7.43744001e-02 -1.52557064e-03 -1.84742920e...</td>\n",
       "    </tr>\n",
       "  </tbody>\n",
       "</table>\n",
       "</div>"
      ],
      "text/plain": [
       "                                                                                  embedding_bert  \\\n",
       "video_name                                                                                         \n",
       "DeepMind’s New AI: Assistant From The Future!  [[-4.11230952e-01 -3.07224512e-01 -1.23091914e...   \n",
       "Blender 4.1 - Create Virtual Worlds…For Free!  [[-9.96123999e-02 -3.39044273e-01  1.06826290e...   \n",
       "OpenAI Sora: Beauty And Horror!                [[-2.82204866e-01 -3.54010582e-01 -1.87018469e...   \n",
       "OpenAI Sora Just Supercharged Filmmaking!      [[-1.08210146e-01 -2.12061957e-01 -6.52528554e...   \n",
       "NVIDIA GTC: This Is The Future Of Everything!  [[-2.22307026e-01 -1.91042021e-01 -8.92981701e...   \n",
       "\n",
       "                                                                             embedding_mean_bert  \\\n",
       "video_name                                                                                         \n",
       "DeepMind’s New AI: Assistant From The Future!  [[-3.52466732e-01 -1.83229193e-01  4.56772596e...   \n",
       "Blender 4.1 - Create Virtual Worlds…For Free!  [[-4.75290045e-02 -1.54082075e-01  3.72303486e...   \n",
       "OpenAI Sora: Beauty And Horror!                [[-7.50496238e-02 -1.62728757e-01 -4.48983237e...   \n",
       "OpenAI Sora Just Supercharged Filmmaking!      [[-3.20733823e-02 -8.55088532e-02  1.85163632e...   \n",
       "NVIDIA GTC: This Is The Future Of Everything!  [[-2.48398125e-01 -3.30316648e-03  3.16924781e...   \n",
       "\n",
       "                                                                                    embedding_hf  \n",
       "video_name                                                                                        \n",
       "DeepMind’s New AI: Assistant From The Future!  [[-8.32884908e-02 -2.69665681e-02  3.02182939e...  \n",
       "Blender 4.1 - Create Virtual Worlds…For Free!  [[-3.85681652e-02 -2.80849040e-02  1.88307725e...  \n",
       "OpenAI Sora: Beauty And Horror!                [[-1.60020869e-02  2.15904936e-02 -1.71286725e...  \n",
       "OpenAI Sora Just Supercharged Filmmaking!      [[-2.0056270e-02 -5.4418176e-02 -5.3889085e-02...  \n",
       "NVIDIA GTC: This Is The Future Of Everything!  [[-7.43744001e-02 -1.52557064e-03 -1.84742920e...  "
      ]
     },
     "execution_count": 3,
     "metadata": {},
     "output_type": "execute_result"
    }
   ],
   "source": [
    "embeddings_df.head()"
   ]
  },
  {
   "cell_type": "code",
   "execution_count": 20,
   "metadata": {},
   "outputs": [
    {
     "data": {
      "text/plain": [
       "Index(['prompt', 'similarity_bert', 'similarity_hf', 'similarity_mean_bert'], dtype='object')"
      ]
     },
     "execution_count": 20,
     "metadata": {},
     "output_type": "execute_result"
    }
   ],
   "source": [
    "similarities_df.columns"
   ]
  },
  {
   "cell_type": "code",
   "execution_count": 21,
   "metadata": {},
   "outputs": [],
   "source": [
    "similarities_df.head()\n",
    "columns_to_convert = ['similarity_bert', 'similarity_mean_bert', 'similarity_hf']\n",
    "for column in columns_to_convert:\n",
    "    similarities_df[column] = similarities_df[column].apply(ast.literal_eval)"
   ]
  },
  {
   "cell_type": "markdown",
   "metadata": {},
   "source": [
    "## Exploring the mistakes"
   ]
  },
  {
   "cell_type": "code",
   "execution_count": 22,
   "metadata": {},
   "outputs": [
    {
     "data": {
      "text/plain": [
       "'OpenAI Sora: Beauty And Horror!'"
      ]
     },
     "execution_count": 22,
     "metadata": {},
     "output_type": "execute_result"
    }
   ],
   "source": [
    "i = 2\n",
    "relevant_row = similarities_df.iloc[i]\n",
    "similarities_df.index[i]"
   ]
  },
  {
   "cell_type": "code",
   "execution_count": 23,
   "metadata": {},
   "outputs": [
    {
     "data": {
      "text/plain": [
       "list"
      ]
     },
     "execution_count": 23,
     "metadata": {},
     "output_type": "execute_result"
    }
   ],
   "source": [
    "type(relevant_row['similarity_bert'])"
   ]
  },
  {
   "cell_type": "code",
   "execution_count": 24,
   "metadata": {},
   "outputs": [],
   "source": [
    "# Create a dataframe with all the correct/incorrect predictions\n",
    "predictions = pd.DataFrame(columns=['video_id', 'bert', 'hf', 'mean_bert'])\n",
    "video_names = similarities_df.index.tolist()\n",
    "\n",
    "for i in range(len(similarities_df.index)):\n",
    "    bert = 0\n",
    "    hf = 0\n",
    "    mean_bert = 0\n",
    "\n",
    "    relevant_row = similarities_df.iloc[i]\n",
    "    similarities_bert = relevant_row['similarity_bert']\n",
    "    similarities_hf = relevant_row['similarity_hf']\n",
    "    similarities_mean_bert = relevant_row['similarity_mean_bert']\n",
    "\n",
    "    closest_index_bert = np.argmax(similarities_bert)\n",
    "    closest_index_hf = np.argmax(similarities_hf)\n",
    "    closest_index_mean_bert = np.argmax(similarities_mean_bert)\n",
    "\n",
    "    if video_names[closest_index_bert] == video_names[i]:\n",
    "        bert = 1\n",
    "    if video_names[closest_index_hf] == video_names[i]:\n",
    "        hf = 1\n",
    "    if video_names[closest_index_mean_bert] == video_names[i]:\n",
    "        mean_bert = 1\n",
    "\n",
    "    predictions = predictions._append({'video_id': video_names[i], 'bert': bert, 'hf': hf, 'mean_bert': mean_bert}, ignore_index=True)"
   ]
  },
  {
   "cell_type": "code",
   "execution_count": 29,
   "metadata": {},
   "outputs": [
    {
     "name": "stdout",
     "output_type": "stream",
     "text": [
      "Accuracy Bert: 1.60%\n",
      "Accuracy HF: 56.62%\n",
      "Accuracy Mean Bert: 23.97%\n"
     ]
    }
   ],
   "source": [
    "print(f\"Accuracy Bert: {predictions['bert'].sum() / len(similarities_df.index) * 100:.2f}%\")\n",
    "print(f\"Accuracy HF: {predictions['hf'].sum() / len(similarities_df.index) * 100:.2f}%\")\n",
    "print(f\"Accuracy Mean Bert: {predictions['mean_bert'].sum() / len(similarities_df.index) * 100:.2f}%\")"
   ]
  },
  {
   "cell_type": "code",
   "execution_count": 33,
   "metadata": {},
   "outputs": [],
   "source": [
    "num_videos = len(similarities_df.index)\n",
    "\n",
    "# Initialize matrices to hold the top 3 indicators for each method\n",
    "top3_matrix_bert = np.zeros((num_videos, num_videos))\n",
    "top3_matrix_hf = np.zeros((num_videos, num_videos))\n",
    "top3_matrix_mean_bert = np.zeros((num_videos, num_videos))"
   ]
  },
  {
   "cell_type": "code",
   "execution_count": 45,
   "metadata": {},
   "outputs": [],
   "source": [
    "predictions = pd.DataFrame(columns=['video_id', 'bert', 'hf', 'mean_bert'])\n",
    "video_names = similarities_df.index.tolist()\n",
    "n_top_samples = 10\n",
    "\n",
    "for i in range(len(similarities_df.index)):\n",
    "    bert = 0\n",
    "    hf = 0\n",
    "    mean_bert = 0\n",
    "\n",
    "    relevant_row = similarities_df.iloc[i]\n",
    "    similarities_bert = relevant_row['similarity_bert']\n",
    "    similarities_hf = relevant_row['similarity_hf']\n",
    "    similarities_mean_bert = relevant_row['similarity_mean_bert']\n",
    "\n",
    "    # Get indices of the top 3 videos by similarity for each method\n",
    "    top3_indices_bert = np.argsort(similarities_bert)[-n_top_samples:][::-1]\n",
    "    top3_indices_hf = np.argsort(similarities_hf)[-n_top_samples:][::-1]\n",
    "    top3_indices_mean_bert = np.argsort(similarities_mean_bert)[-n_top_samples:][::-1]\n",
    "\n",
    "    # Fill the matrices for top 3 indicators\n",
    "    top3_matrix_bert[i, top3_indices_bert] = 1\n",
    "    top3_matrix_hf[i, top3_indices_hf] = 1\n",
    "    top3_matrix_mean_bert[i, top3_indices_mean_bert] = 1\n",
    "\n",
    "    # Check if the current video is among the top 3 for each method\n",
    "    if video_names[i] in [video_names[idx] for idx in top3_indices_bert]:\n",
    "        bert = 1\n",
    "    if video_names[i] in [video_names[idx] for idx in top3_indices_hf]:\n",
    "        hf = 1\n",
    "    if video_names[i] in [video_names[idx] for idx in top3_indices_mean_bert]:\n",
    "        mean_bert = 1\n",
    "\n",
    "    predictions = predictions._append({'video_id': video_names[i], 'bert': bert, 'hf': hf, 'mean_bert': mean_bert}, ignore_index=True)"
   ]
  },
  {
   "cell_type": "code",
   "execution_count": 46,
   "metadata": {},
   "outputs": [
    {
     "name": "stdout",
     "output_type": "stream",
     "text": [
      "Accuracy Bert: 8.22%\n",
      "Accuracy HF: 83.68%\n",
      "Accuracy Mean Bert: 46.00%\n"
     ]
    }
   ],
   "source": [
    "print(f\"Accuracy Bert: {predictions['bert'].sum() / len(similarities_df.index) * 100:.2f}%\")\n",
    "print(f\"Accuracy HF: {predictions['hf'].sum() / len(similarities_df.index) * 100:.2f}%\")\n",
    "print(f\"Accuracy Mean Bert: {predictions['mean_bert'].sum() / len(similarities_df.index) * 100:.2f}%\")"
   ]
  },
  {
   "cell_type": "code",
   "execution_count": 47,
   "metadata": {},
   "outputs": [
    {
     "data": {
      "image/png": "[encoded data removed]",
      "text/plain": [
       "<Figure size 1200x1200 with 3 Axes>"
      ]
     },
     "metadata": {},
     "output_type": "display_data"
    }
   ],
   "source": [
    "# Plotting the matrices\n",
    "fig, axes = plt.subplots(1, 3, figsize=(12, 12))\n",
    "\n",
    "axes[0].imshow(top3_matrix_bert, cmap='Blues', interpolation='nearest')\n",
    "axes[0].set_title('Top 3 Predictions Matrix for BERT')\n",
    "axes[0].set_xlabel('Video Index')\n",
    "axes[0].set_ylabel('Video Index')\n",
    "\n",
    "axes[1].imshow(top3_matrix_hf, cmap='Greens', interpolation='nearest')\n",
    "axes[1].set_title('Top 3 Predictions Matrix for HF')\n",
    "axes[1].set_xlabel('Video Index')\n",
    "axes[1].set_ylabel('Video Index')\n",
    "\n",
    "axes[2].imshow(top3_matrix_mean_bert, cmap='Reds', interpolation='nearest')\n",
    "axes[2].set_title('Top 3 Predictions Matrix for Mean BERT')\n",
    "axes[2].set_xlabel('Video Index')\n",
    "axes[2].set_ylabel('Video Index')\n",
    "\n",
    "plt.tight_layout()\n",
    "plt.show()"
   ]
  },
  {
   "cell_type": "code",
   "execution_count": null,
   "metadata": {},
   "outputs": [],
   "source": []
  }
 ],
 "metadata": {
  "kernelspec": {
   "display_name": "VFenv",
   "language": "python",
   "name": "python3"
  },
  "language_info": {
   "codemirror_mode": {
    "name": "ipython",
    "version": 3
   },
   "file_extension": ".py",
   "mimetype": "text/x-python",
   "name": "python",
   "nbconvert_exporter": "python",
   "pygments_lexer": "ipython3",
   "version": "3.11.4"
  }
 },
 "nbformat": 4,
 "nbformat_minor": 2
}
