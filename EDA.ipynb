{
 "cells": [
  {
   "cell_type": "code",
   "execution_count": 2,
   "metadata": {},
   "outputs": [],
   "source": [
    "import pandas as pd\n",
    "import numpy as np\n",
    "import ast\n",
    "from utils.utils import *\n",
    "import matplotlib.pyplot as plt\n",
    "import torch\n",
    "import torch.nn.functional as F\n",
    "import torch.nn as nn\n",
    "import os\n",
    "from utils.generate_dfs import *\n",
    "from sentence_transformers import SentenceTransformer\n",
    "from torch.utils.data import Dataset, DataLoader\n",
    "import torch.optim as optim\n"
   ]
  },
  {
   "cell_type": "markdown",
   "metadata": {},
   "source": [
    "## Loading dataframes"
   ]
  },
  {
   "cell_type": "code",
   "execution_count": 3,
   "metadata": {},
   "outputs": [],
   "source": [
    "similarities_df = pd.read_csv('csvs/similarities.csv', index_col=0)\n",
    "videos_df = pd.read_csv('csvs/videos_df.csv', index_col=0)\n",
    "embeddings_df = pd.read_csv('csvs/embeddings.csv', index_col=0)"
   ]
  },
  {
   "cell_type": "code",
   "execution_count": 4,
   "metadata": {},
   "outputs": [
    {
     "data": {
      "text/html": [
       "<div>\n",
       "<style scoped>\n",
       "    .dataframe tbody tr th:only-of-type {\n",
       "        vertical-align: middle;\n",
       "    }\n",
       "\n",
       "    .dataframe tbody tr th {\n",
       "        vertical-align: top;\n",
       "    }\n",
       "\n",
       "    .dataframe thead th {\n",
       "        text-align: right;\n",
       "    }\n",
       "</style>\n",
       "<table border=\"1\" class=\"dataframe\">\n",
       "  <thead>\n",
       "    <tr style=\"text-align: right;\">\n",
       "      <th></th>\n",
       "      <th>embedding_bert</th>\n",
       "      <th>embedding_mean_bert</th>\n",
       "      <th>embedding_hf</th>\n",
       "    </tr>\n",
       "    <tr>\n",
       "      <th>video_name</th>\n",
       "      <th></th>\n",
       "      <th></th>\n",
       "      <th></th>\n",
       "    </tr>\n",
       "  </thead>\n",
       "  <tbody>\n",
       "    <tr>\n",
       "      <th>DeepMind’s New AI: Assistant From The Future!</th>\n",
       "      <td>[[-4.11230952e-01 -3.07224512e-01 -1.23091914e...</td>\n",
       "      <td>[[-3.52466732e-01 -1.83229193e-01  4.56772596e...</td>\n",
       "      <td>[[-8.32884908e-02 -2.69665681e-02  3.02182939e...</td>\n",
       "    </tr>\n",
       "    <tr>\n",
       "      <th>Blender 4.1 - Create Virtual Worlds…For Free!</th>\n",
       "      <td>[[-9.96123999e-02 -3.39044273e-01  1.06826290e...</td>\n",
       "      <td>[[-4.75290045e-02 -1.54082075e-01  3.72303486e...</td>\n",
       "      <td>[[-3.85681652e-02 -2.80849040e-02  1.88307725e...</td>\n",
       "    </tr>\n",
       "    <tr>\n",
       "      <th>OpenAI Sora: Beauty And Horror!</th>\n",
       "      <td>[[-2.82204866e-01 -3.54010582e-01 -1.87018469e...</td>\n",
       "      <td>[[-7.50496238e-02 -1.62728757e-01 -4.48983237e...</td>\n",
       "      <td>[[-1.60020869e-02  2.15904936e-02 -1.71286725e...</td>\n",
       "    </tr>\n",
       "    <tr>\n",
       "      <th>OpenAI Sora Just Supercharged Filmmaking!</th>\n",
       "      <td>[[-1.08210146e-01 -2.12061957e-01 -6.52528554e...</td>\n",
       "      <td>[[-3.20733823e-02 -8.55088532e-02  1.85163632e...</td>\n",
       "      <td>[[-2.0056270e-02 -5.4418176e-02 -5.3889085e-02...</td>\n",
       "    </tr>\n",
       "    <tr>\n",
       "      <th>NVIDIA GTC: This Is The Future Of Everything!</th>\n",
       "      <td>[[-2.22307026e-01 -1.91042021e-01 -8.92981701e...</td>\n",
       "      <td>[[-2.48398125e-01 -3.30316648e-03  3.16924781e...</td>\n",
       "      <td>[[-7.43744001e-02 -1.52557064e-03 -1.84742920e...</td>\n",
       "    </tr>\n",
       "  </tbody>\n",
       "</table>\n",
       "</div>"
      ],
      "text/plain": [
       "                                                                                  embedding_bert  \\\n",
       "video_name                                                                                         \n",
       "DeepMind’s New AI: Assistant From The Future!  [[-4.11230952e-01 -3.07224512e-01 -1.23091914e...   \n",
       "Blender 4.1 - Create Virtual Worlds…For Free!  [[-9.96123999e-02 -3.39044273e-01  1.06826290e...   \n",
       "OpenAI Sora: Beauty And Horror!                [[-2.82204866e-01 -3.54010582e-01 -1.87018469e...   \n",
       "OpenAI Sora Just Supercharged Filmmaking!      [[-1.08210146e-01 -2.12061957e-01 -6.52528554e...   \n",
       "NVIDIA GTC: This Is The Future Of Everything!  [[-2.22307026e-01 -1.91042021e-01 -8.92981701e...   \n",
       "\n",
       "                                                                             embedding_mean_bert  \\\n",
       "video_name                                                                                         \n",
       "DeepMind’s New AI: Assistant From The Future!  [[-3.52466732e-01 -1.83229193e-01  4.56772596e...   \n",
       "Blender 4.1 - Create Virtual Worlds…For Free!  [[-4.75290045e-02 -1.54082075e-01  3.72303486e...   \n",
       "OpenAI Sora: Beauty And Horror!                [[-7.50496238e-02 -1.62728757e-01 -4.48983237e...   \n",
       "OpenAI Sora Just Supercharged Filmmaking!      [[-3.20733823e-02 -8.55088532e-02  1.85163632e...   \n",
       "NVIDIA GTC: This Is The Future Of Everything!  [[-2.48398125e-01 -3.30316648e-03  3.16924781e...   \n",
       "\n",
       "                                                                                    embedding_hf  \n",
       "video_name                                                                                        \n",
       "DeepMind’s New AI: Assistant From The Future!  [[-8.32884908e-02 -2.69665681e-02  3.02182939e...  \n",
       "Blender 4.1 - Create Virtual Worlds…For Free!  [[-3.85681652e-02 -2.80849040e-02  1.88307725e...  \n",
       "OpenAI Sora: Beauty And Horror!                [[-1.60020869e-02  2.15904936e-02 -1.71286725e...  \n",
       "OpenAI Sora Just Supercharged Filmmaking!      [[-2.0056270e-02 -5.4418176e-02 -5.3889085e-02...  \n",
       "NVIDIA GTC: This Is The Future Of Everything!  [[-7.43744001e-02 -1.52557064e-03 -1.84742920e...  "
      ]
     },
     "execution_count": 4,
     "metadata": {},
     "output_type": "execute_result"
    }
   ],
   "source": [
    "embeddings_df.head()"
   ]
  },
  {
   "cell_type": "code",
   "execution_count": 5,
   "metadata": {},
   "outputs": [
    {
     "data": {
      "text/plain": [
       "Index(['prompt', 'similarity_bert', 'similarity_hf', 'similarity_mean_bert'], dtype='object')"
      ]
     },
     "execution_count": 5,
     "metadata": {},
     "output_type": "execute_result"
    }
   ],
   "source": [
    "similarities_df.columns"
   ]
  },
  {
   "cell_type": "code",
   "execution_count": 6,
   "metadata": {},
   "outputs": [],
   "source": [
    "similarities_df.head()\n",
    "columns_to_convert = ['similarity_bert', 'similarity_mean_bert', 'similarity_hf']\n",
    "for column in columns_to_convert:\n",
    "    similarities_df[column] = similarities_df[column].apply(ast.literal_eval)"
   ]
  },
  {
   "cell_type": "markdown",
   "metadata": {},
   "source": [
    "## Exploring the different embeddings"
   ]
  },
  {
   "cell_type": "markdown",
   "metadata": {},
   "source": [
    "### Closest video"
   ]
  },
  {
   "cell_type": "code",
   "execution_count": 7,
   "metadata": {},
   "outputs": [
    {
     "data": {
      "text/plain": [
       "'OpenAI Sora: Beauty And Horror!'"
      ]
     },
     "execution_count": 7,
     "metadata": {},
     "output_type": "execute_result"
    }
   ],
   "source": [
    "i = 2\n",
    "relevant_row = similarities_df.iloc[i]\n",
    "similarities_df.index[i]"
   ]
  },
  {
   "cell_type": "code",
   "execution_count": 8,
   "metadata": {},
   "outputs": [
    {
     "data": {
      "text/plain": [
       "list"
      ]
     },
     "execution_count": 8,
     "metadata": {},
     "output_type": "execute_result"
    }
   ],
   "source": [
    "type(relevant_row['similarity_bert'])"
   ]
  },
  {
   "cell_type": "code",
   "execution_count": 9,
   "metadata": {},
   "outputs": [],
   "source": [
    "# Create a dataframe with all the correct/incorrect predictions\n",
    "predictions = pd.DataFrame(columns=['video_id', 'bert', 'hf', 'mean_bert'])\n",
    "video_names = similarities_df.index.tolist()\n",
    "\n",
    "for i in range(len(similarities_df.index)):\n",
    "    bert = hf = mean_bert = 0\n",
    "\n",
    "    similarities_bert = similarities_df.iloc[i]['similarity_bert']\n",
    "    similarities_hf = similarities_df.iloc[i]['similarity_hf']\n",
    "    similarities_mean_bert = similarities_df.iloc[i]['similarity_mean_bert']\n",
    "\n",
    "    closest_index_bert = np.argmax(similarities_bert)\n",
    "    closest_index_hf = np.argmax(similarities_hf)\n",
    "    closest_index_mean_bert = np.argmax(similarities_mean_bert)\n",
    "\n",
    "    if video_names[closest_index_bert] == video_names[i]:\n",
    "        bert = 1\n",
    "    if video_names[closest_index_hf] == video_names[i]:\n",
    "        hf = 1\n",
    "    if video_names[closest_index_mean_bert] == video_names[i]:\n",
    "        mean_bert = 1\n",
    "\n",
    "    predictions.loc[i] = [video_names[i], bert, hf, mean_bert]"
   ]
  },
  {
   "cell_type": "code",
   "execution_count": 10,
   "metadata": {},
   "outputs": [
    {
     "name": "stdout",
     "output_type": "stream",
     "text": [
      "Accuracy Bert: 1.60%\n",
      "Accuracy HF: 56.62%\n",
      "Accuracy Mean Bert: 23.97%\n"
     ]
    }
   ],
   "source": [
    "print(f\"Accuracy Bert: {predictions['bert'].sum() / len(similarities_df.index) * 100:.2f}%\")\n",
    "print(f\"Accuracy HF: {predictions['hf'].sum() / len(similarities_df.index) * 100:.2f}%\")\n",
    "print(f\"Accuracy Mean Bert: {predictions['mean_bert'].sum() / len(similarities_df.index) * 100:.2f}%\")"
   ]
  },
  {
   "cell_type": "markdown",
   "metadata": {},
   "source": [
    "### Closest N videos"
   ]
  },
  {
   "cell_type": "code",
   "execution_count": 11,
   "metadata": {},
   "outputs": [],
   "source": [
    "num_videos = len(similarities_df.index)\n",
    "\n",
    "# Initialize matrices to hold the top 3 indicators for each method\n",
    "top_n_matrix_bert = np.zeros((num_videos, num_videos))\n",
    "top_n_matrix_hf = np.zeros((num_videos, num_videos))\n",
    "top_n_matrix_mean_bert = np.zeros((num_videos, num_videos))"
   ]
  },
  {
   "cell_type": "code",
   "execution_count": 12,
   "metadata": {},
   "outputs": [],
   "source": [
    "predictions = pd.DataFrame(columns=['video_id', 'bert', 'hf', 'mean_bert'])\n",
    "video_names = similarities_df.index.tolist()\n",
    "n_top_samples = 1\n",
    "\n",
    "for i in range(len(similarities_df.index)):\n",
    "    bert = 0\n",
    "    hf = 0\n",
    "    mean_bert = 0\n",
    "\n",
    "    relevant_row = similarities_df.iloc[i]\n",
    "    similarities_bert = relevant_row['similarity_bert']\n",
    "    similarities_hf = relevant_row['similarity_hf']\n",
    "    similarities_mean_bert = relevant_row['similarity_mean_bert']\n",
    "\n",
    "    # Get indices of the top 3 videos by similarity for each method\n",
    "    top3_indices_bert = np.argsort(similarities_bert)[-n_top_samples:][::-1]\n",
    "    top3_indices_hf = np.argsort(similarities_hf)[-n_top_samples:][::-1]\n",
    "    top3_indices_mean_bert = np.argsort(similarities_mean_bert)[-n_top_samples:][::-1]\n",
    "\n",
    "    # Fill the matrices for top 3 indicators\n",
    "    top_n_matrix_bert[i, top3_indices_bert] = 1\n",
    "    top_n_matrix_hf[i, top3_indices_hf] = 1\n",
    "    top_n_matrix_mean_bert[i, top3_indices_mean_bert] = 1\n",
    "\n",
    "    # Check if the current video is among the top 3 for each method\n",
    "    if video_names[i] in [video_names[idx] for idx in top3_indices_bert]:\n",
    "        bert = 1\n",
    "    if video_names[i] in [video_names[idx] for idx in top3_indices_hf]:\n",
    "        hf = 1\n",
    "    if video_names[i] in [video_names[idx] for idx in top3_indices_mean_bert]:\n",
    "        mean_bert = 1\n",
    "\n",
    "    predictions = predictions._append({'video_id': video_names[i], 'bert': bert, 'hf': hf, 'mean_bert': mean_bert}, ignore_index=True)"
   ]
  },
  {
   "cell_type": "code",
   "execution_count": 13,
   "metadata": {},
   "outputs": [
    {
     "name": "stdout",
     "output_type": "stream",
     "text": [
      "Accuracy Bert: 1.60%\n",
      "Accuracy HF: 56.62%\n",
      "Accuracy Mean Bert: 23.97%\n"
     ]
    }
   ],
   "source": [
    "print(f\"Accuracy Bert: {predictions['bert'].sum() / len(similarities_df.index) * 100:.2f}%\")\n",
    "print(f\"Accuracy HF: {predictions['hf'].sum() / len(similarities_df.index) * 100:.2f}%\")\n",
    "print(f\"Accuracy Mean Bert: {predictions['mean_bert'].sum() / len(similarities_df.index) * 100:.2f}%\")"
   ]
  },
  {
   "cell_type": "code",
   "execution_count": 14,
   "metadata": {},
   "outputs": [
    {
     "data": {
      "image/png": "[encoded data removed]",
      "text/plain": [
       "<Figure size 1200x1200 with 3 Axes>"
      ]
     },
     "metadata": {},
     "output_type": "display_data"
    }
   ],
   "source": [
    "# Plotting the matrices\n",
    "fig, axes = plt.subplots(1, 3, figsize=(12, 12))\n",
    "\n",
    "axes[0].imshow(top_n_matrix_bert, cmap='Blues', interpolation='nearest')\n",
    "axes[0].set_title(f'Top {n_top_samples} Predictions Matrix for BERT')\n",
    "axes[0].set_ylabel('Video Index - Original Video')\n",
    "axes[0].set_xlabel('Video Index - Predicted Video')\n",
    "\n",
    "axes[1].imshow(top_n_matrix_hf, cmap='Greens', interpolation='nearest')\n",
    "axes[1].set_title(f'Top {n_top_samples} Predictions Matrix for HF')\n",
    "axes[1].set_ylabel('Video Index - Original Video')\n",
    "axes[1].set_xlabel('Video Index - Predicted Video')\n",
    "\n",
    "axes[2].imshow(top_n_matrix_mean_bert, cmap='Reds', interpolation='nearest')\n",
    "axes[2].set_title(f'Top {n_top_samples} Predictions Matrix for Mean BERT')\n",
    "axes[2].set_ylabel('Video Index - Original Video')\n",
    "axes[2].set_xlabel('Video Index - Predicted Video')\n",
    "\n",
    "plt.tight_layout()\n",
    "plt.show()"
   ]
  },
  {
   "cell_type": "markdown",
   "metadata": {},
   "source": [
    "## For training"
   ]
  },
  {
   "cell_type": "markdown",
   "metadata": {},
   "source": [
    "### Pre-Processing and model definition"
   ]
  },
  {
   "cell_type": "code",
   "execution_count": 15,
   "metadata": {},
   "outputs": [],
   "source": [
    "model = SentenceTransformer('all-MiniLM-L6-v2')\n",
    "\n",
    "# Load the data\n",
    "videos_df = pd.read_csv('csvs/videos_df.csv')"
   ]
  },
  {
   "cell_type": "code",
   "execution_count": 16,
   "metadata": {},
   "outputs": [
    {
     "name": "stdout",
     "output_type": "stream",
     "text": [
      "Accuracy HF: 56.62%\n"
     ]
    }
   ],
   "source": [
    "# Create a dataframe with all the correct/incorrect predictions\n",
    "predictions = pd.DataFrame(columns=['video_id', 'hf'])\n",
    "video_names = similarities_df.index.tolist()\n",
    "\n",
    "for i in range(len(similarities_df.index)):\n",
    "    hf = 0\n",
    "\n",
    "    similarities_hf = similarities_df.iloc[i]['similarity_hf']\n",
    "\n",
    "    closest_index_hf = np.argmax(similarities_hf)\n",
    "\n",
    "    if video_names[closest_index_hf] == video_names[i]:\n",
    "        hf = 1\n",
    "\n",
    "    predictions.loc[i] = [video_names[i], hf]\n",
    "\n",
    "print(f\"Accuracy HF: {predictions['hf'].sum() / len(similarities_df.index) * 100:.2f}%\")"
   ]
  },
  {
   "cell_type": "code",
   "execution_count": 17,
   "metadata": {},
   "outputs": [],
   "source": [
    "videos_df = videos_df.drop(columns=['channel_name'])"
   ]
  },
  {
   "cell_type": "code",
   "execution_count": 18,
   "metadata": {},
   "outputs": [
    {
     "name": "stderr",
     "output_type": "stream",
     "text": [
      "100%|██████████| 876/876 [00:29<00:00, 29.66it/s]\n"
     ]
    },
    {
     "data": {
      "text/html": [
       "<div>\n",
       "<style scoped>\n",
       "    .dataframe tbody tr th:only-of-type {\n",
       "        vertical-align: middle;\n",
       "    }\n",
       "\n",
       "    .dataframe tbody tr th {\n",
       "        vertical-align: top;\n",
       "    }\n",
       "\n",
       "    .dataframe thead th {\n",
       "        text-align: right;\n",
       "    }\n",
       "</style>\n",
       "<table border=\"1\" class=\"dataframe\">\n",
       "  <thead>\n",
       "    <tr style=\"text-align: right;\">\n",
       "      <th></th>\n",
       "      <th>video_name</th>\n",
       "      <th>title_embedding</th>\n",
       "      <th>desc_embedding</th>\n",
       "      <th>transcript_embedding</th>\n",
       "      <th>prompt_embedding</th>\n",
       "      <th>label</th>\n",
       "    </tr>\n",
       "  </thead>\n",
       "  <tbody>\n",
       "    <tr>\n",
       "      <th>0</th>\n",
       "      <td>DeepMind’s New AI: Assistant From The Future!</td>\n",
       "      <td>[[-0.12433333, -0.08009393, 0.03450345, 0.0180...</td>\n",
       "      <td>[[-0.011247036, 0.09796095, 0.03491168, 0.0456...</td>\n",
       "      <td>[[-0.1006035, -0.08105761, 0.01981136, -0.0274...</td>\n",
       "      <td>[[-0.11957101, -0.07976705, 0.030240418, -0.06...</td>\n",
       "      <td>0</td>\n",
       "    </tr>\n",
       "    <tr>\n",
       "      <th>1</th>\n",
       "      <td>Blender 4.1 - Create Virtual Worlds…For Free!</td>\n",
       "      <td>[[0.0084991045, -0.040308878, 0.017153518, -0....</td>\n",
       "      <td>[[-0.09826999, 0.0056838603, -0.005567224, -0....</td>\n",
       "      <td>[[-0.04162269, -0.04555503, 0.045465104, -0.03...</td>\n",
       "      <td>[[0.0011685346, -0.08414962, -0.037104733, -0....</td>\n",
       "      <td>1</td>\n",
       "    </tr>\n",
       "    <tr>\n",
       "      <th>2</th>\n",
       "      <td>OpenAI Sora: Beauty And Horror!</td>\n",
       "      <td>[[-0.022502398, -0.0004974325, -0.060733378, 0...</td>\n",
       "      <td>[[-0.011247036, 0.09796095, 0.03491168, 0.0456...</td>\n",
       "      <td>[[-0.012090054, -0.025329394, -0.011029416, -6...</td>\n",
       "      <td>[[-0.08760911, -0.01805747, -0.015938623, -0.0...</td>\n",
       "      <td>2</td>\n",
       "    </tr>\n",
       "    <tr>\n",
       "      <th>3</th>\n",
       "      <td>OpenAI Sora Just Supercharged Filmmaking!</td>\n",
       "      <td>[[-0.03048498, -0.045707945, -0.09320625, 0.04...</td>\n",
       "      <td>[[0.024373285, -0.07085469, -0.015706317, 0.07...</td>\n",
       "      <td>[[-0.050580874, -0.049595285, -0.039648954, -0...</td>\n",
       "      <td>[[-0.033678133, -0.046196513, -0.015098083, -0...</td>\n",
       "      <td>3</td>\n",
       "    </tr>\n",
       "    <tr>\n",
       "      <th>4</th>\n",
       "      <td>NVIDIA GTC: This Is The Future Of Everything!</td>\n",
       "      <td>[[-0.09338506, 0.0318434, -0.011997288, 0.0128...</td>\n",
       "      <td>[[-0.095089, -0.010089811, -0.010409337, -0.02...</td>\n",
       "      <td>[[-0.028312227, -0.03745329, -0.035175253, -0....</td>\n",
       "      <td>[[-0.037741415, -0.009634391, 0.0037468406, -0...</td>\n",
       "      <td>4</td>\n",
       "    </tr>\n",
       "  </tbody>\n",
       "</table>\n",
       "</div>"
      ],
      "text/plain": [
       "                                      video_name  \\\n",
       "0  DeepMind’s New AI: Assistant From The Future!   \n",
       "1  Blender 4.1 - Create Virtual Worlds…For Free!   \n",
       "2                OpenAI Sora: Beauty And Horror!   \n",
       "3      OpenAI Sora Just Supercharged Filmmaking!   \n",
       "4  NVIDIA GTC: This Is The Future Of Everything!   \n",
       "\n",
       "                                     title_embedding  \\\n",
       "0  [[-0.12433333, -0.08009393, 0.03450345, 0.0180...   \n",
       "1  [[0.0084991045, -0.040308878, 0.017153518, -0....   \n",
       "2  [[-0.022502398, -0.0004974325, -0.060733378, 0...   \n",
       "3  [[-0.03048498, -0.045707945, -0.09320625, 0.04...   \n",
       "4  [[-0.09338506, 0.0318434, -0.011997288, 0.0128...   \n",
       "\n",
       "                                      desc_embedding  \\\n",
       "0  [[-0.011247036, 0.09796095, 0.03491168, 0.0456...   \n",
       "1  [[-0.09826999, 0.0056838603, -0.005567224, -0....   \n",
       "2  [[-0.011247036, 0.09796095, 0.03491168, 0.0456...   \n",
       "3  [[0.024373285, -0.07085469, -0.015706317, 0.07...   \n",
       "4  [[-0.095089, -0.010089811, -0.010409337, -0.02...   \n",
       "\n",
       "                                transcript_embedding  \\\n",
       "0  [[-0.1006035, -0.08105761, 0.01981136, -0.0274...   \n",
       "1  [[-0.04162269, -0.04555503, 0.045465104, -0.03...   \n",
       "2  [[-0.012090054, -0.025329394, -0.011029416, -6...   \n",
       "3  [[-0.050580874, -0.049595285, -0.039648954, -0...   \n",
       "4  [[-0.028312227, -0.03745329, -0.035175253, -0....   \n",
       "\n",
       "                                    prompt_embedding  label  \n",
       "0  [[-0.11957101, -0.07976705, 0.030240418, -0.06...      0  \n",
       "1  [[0.0011685346, -0.08414962, -0.037104733, -0....      1  \n",
       "2  [[-0.08760911, -0.01805747, -0.015938623, -0.0...      2  \n",
       "3  [[-0.033678133, -0.046196513, -0.015098083, -0...      3  \n",
       "4  [[-0.037741415, -0.009634391, 0.0037468406, -0...      4  "
      ]
     },
     "execution_count": 18,
     "metadata": {},
     "output_type": "execute_result"
    }
   ],
   "source": [
    "embeddings_df = generate_embeddings_hf_df(videos_df, 'csvs/embeddings_hf.csv')\n",
    "embeddings_df.head()"
   ]
  },
  {
   "cell_type": "code",
   "execution_count": 19,
   "metadata": {},
   "outputs": [
    {
     "data": {
      "text/plain": [
       "(1, 384)"
      ]
     },
     "execution_count": 19,
     "metadata": {},
     "output_type": "execute_result"
    }
   ],
   "source": [
    "# Look into what an embedding looks like:\n",
    "embeddings_df['title_embedding'][0].shape"
   ]
  },
  {
   "cell_type": "code",
   "execution_count": 20,
   "metadata": {},
   "outputs": [
    {
     "data": {
      "text/plain": [
       "torch.Size([384])"
      ]
     },
     "execution_count": 20,
     "metadata": {},
     "output_type": "execute_result"
    }
   ],
   "source": [
    "torch_emb = torch.tensor(embeddings_df['title_embedding'][0], dtype=torch.float32).squeeze()\n",
    "torch_emb.shape"
   ]
  },
  {
   "cell_type": "code",
   "execution_count": 21,
   "metadata": {},
   "outputs": [],
   "source": [
    "class VideoRecommendationModel(nn.Module):\n",
    "    def __init__(self, embed_dim):\n",
    "        super(VideoRecommendationModel, self).__init__()\n",
    "        self.embed_dim = embed_dim\n",
    "        initial_weights = torch.tensor([0.3, 0.4, 0.3]).view(3, 1)  # Create a 3x1 tensor with the desired values\n",
    "        self.weights = nn.Parameter(initial_weights)\n",
    "\n",
    "    def forward(self, title_embeds, desc_embeds, trans_embeds, prompt_embed, relevant_indices):\n",
    "        # Stack embeddings and ensure they are of shape [num_videos, 3, embed_dim]\n",
    "        stacked_embeds = torch.stack([title_embeds, desc_embeds, trans_embeds], dim=1)\n",
    "\n",
    "        # Apply softmax to weights to get normalized weights of shape [3, 1]\n",
    "        weights = F.softmax(self.weights, dim=0)\n",
    "\n",
    "        # Perform weighted sum by broadcasting weights across the embedding dimension\n",
    "        weighted_embeds = stacked_embeds * weights.expand_as(stacked_embeds)\n",
    "\n",
    "        # Sum across the second dimension (the one holding the three embedding types) to combine them\n",
    "        joint_video_embeds = torch.sum(weighted_embeds, dim=1)\n",
    "\n",
    "        # Normalize embeddings\n",
    "        joint_video_embeds = F.normalize(joint_video_embeds, p=2, dim=1)\n",
    "        prompt_embed = F.normalize(prompt_embed, p=2, dim=1)\n",
    "\n",
    "        # Calculate cosine similarities\n",
    "        cosine_similarities = torch.mm(joint_video_embeds, prompt_embed.t()).squeeze(1)  # Shape: [num_videos]\n",
    "\n",
    "        # Filter cosine similarities based on relevant indices\n",
    "        # relevant_cosine_similarities = cosine_similarities[relevant_indices]\n",
    "\n",
    "        return cosine_similarities"
   ]
  },
  {
   "cell_type": "code",
   "execution_count": 22,
   "metadata": {},
   "outputs": [
    {
     "name": "stderr",
     "output_type": "stream",
     "text": [
      "C:\\Users\\eriki\\AppData\\Local\\Temp\\ipykernel_32008\\2211027479.py:1: UserWarning: Creating a tensor from a list of numpy.ndarrays is extremely slow. Please consider converting the list to a single numpy.ndarray with numpy.array() before converting to a tensor. (Triggered internally at ..\\torch\\csrc\\utils\\tensor_new.cpp:278.)\n",
      "  title_embeds = torch.tensor(embeddings_df['title_embedding'], dtype=torch.float32).squeeze()\n"
     ]
    },
    {
     "data": {
      "text/plain": [
       "torch.Size([876, 384])"
      ]
     },
     "execution_count": 22,
     "metadata": {},
     "output_type": "execute_result"
    }
   ],
   "source": [
    "title_embeds = torch.tensor(embeddings_df['title_embedding'], dtype=torch.float32).squeeze()\n",
    "desc_embeds = torch.tensor(embeddings_df['desc_embedding'], dtype=torch.float32).squeeze()\n",
    "trans_embeds = torch.tensor(embeddings_df['transcript_embedding'], dtype=torch.float32).squeeze()\n",
    "prompt_embeds = torch.tensor(embeddings_df['prompt_embedding'], dtype=torch.float32)\n",
    "relevant_indices = torch.tensor(embeddings_df['label'][:32], dtype=torch.long)\n",
    "title_embeds.shape"
   ]
  },
  {
   "cell_type": "code",
   "execution_count": 23,
   "metadata": {},
   "outputs": [],
   "source": [
    "# Instantiate the model\n",
    "embed_dim = 384\n",
    "model = VideoRecommendationModel(embed_dim)"
   ]
  },
  {
   "cell_type": "code",
   "execution_count": 24,
   "metadata": {},
   "outputs": [
    {
     "data": {
      "text/plain": [
       "torch.Size([876, 1, 384])"
      ]
     },
     "execution_count": 24,
     "metadata": {},
     "output_type": "execute_result"
    }
   ],
   "source": [
    "prompt_embeds.shape"
   ]
  },
  {
   "cell_type": "code",
   "execution_count": 25,
   "metadata": {},
   "outputs": [
    {
     "name": "stdout",
     "output_type": "stream",
     "text": [
      "<class 'torch.Tensor'>\n"
     ]
    }
   ],
   "source": [
    "# Forward pass through the model\n",
    "cosine_similarities = model(title_embeds, desc_embeds, trans_embeds, prompt_embeds[0], relevant_indices)\n",
    "# cosine_similarities = model(title_embeds, desc_embeds, trans_embeds, prompt_embeds[:32].squeeze(), relevant_indices)\n",
    "\n",
    "# Output cosine similarities\n",
    "print(type(cosine_similarities))"
   ]
  },
  {
   "cell_type": "code",
   "execution_count": 26,
   "metadata": {},
   "outputs": [
    {
     "data": {
      "text/plain": [
       "torch.Size([876])"
      ]
     },
     "execution_count": 26,
     "metadata": {},
     "output_type": "execute_result"
    }
   ],
   "source": [
    "cosine_similarities.shape"
   ]
  },
  {
   "cell_type": "code",
   "execution_count": 27,
   "metadata": {},
   "outputs": [],
   "source": [
    "max_value, max_index = torch.max(cosine_similarities, 0)"
   ]
  },
  {
   "cell_type": "code",
   "execution_count": 28,
   "metadata": {},
   "outputs": [
    {
     "data": {
      "text/plain": [
       "tensor(0.7507, grad_fn=<MaxBackward0>)"
      ]
     },
     "execution_count": 28,
     "metadata": {},
     "output_type": "execute_result"
    }
   ],
   "source": [
    "int(max_index)\n",
    "max_value"
   ]
  },
  {
   "cell_type": "code",
   "execution_count": 29,
   "metadata": {},
   "outputs": [],
   "source": [
    "class VideoDataset(Dataset):\n",
    "    def __init__(self, title_embeds, desc_embeds, trans_embeds, prompt_embeds, relevant_indices):\n",
    "        \"\"\"\n",
    "        Initializes the dataset.\n",
    "        \n",
    "        :param title_embeds: Tensor of shape [num_samples, embed_dim] - embeddings for the titles\n",
    "        :param desc_embeds: Tensor of shape [num_samples, embed_dim] - embeddings for the descriptions\n",
    "        :param trans_embeds: Tensor of shape [num_samples, embed_dim] - embeddings for the transcripts\n",
    "        :param prompt_embeds: Tensor of shape [num_samples, embed_dim] - embeddings for the prompts\n",
    "        :param relevant_indices: Tensor of shape [num_samples] - index of the relevant video for each prompt\n",
    "        \"\"\"\n",
    "        self.title_embeds = title_embeds\n",
    "        self.desc_embeds = desc_embeds\n",
    "        self.trans_embeds = trans_embeds\n",
    "        self.prompt_embeds = prompt_embeds\n",
    "        self.relevant_indices = relevant_indices\n",
    "\n",
    "    def __len__(self):\n",
    "        return len(self.prompt_embeds)\n",
    "\n",
    "    def __getitem__(self, idx):\n",
    "        # Return the embeddings along with the index of the relevant video\n",
    "        return (self.title_embeds[idx], self.desc_embeds[idx], self.trans_embeds[idx],\n",
    "                self.prompt_embeds[idx], self.relevant_indices[idx])\n"
   ]
  },
  {
   "cell_type": "code",
   "execution_count": 41,
   "metadata": {},
   "outputs": [],
   "source": [
    "title_embeds = torch.tensor(embeddings_df['title_embedding'], dtype=torch.float32).squeeze()\n",
    "desc_embeds = torch.tensor(embeddings_df['desc_embedding'], dtype=torch.float32).squeeze()\n",
    "trans_embeds = torch.tensor(embeddings_df['transcript_embedding'], dtype=torch.float32).squeeze()\n",
    "prompt_embeds = torch.tensor(embeddings_df['prompt_embedding'], dtype=torch.float32).squeeze()\n",
    "relevant_indices = torch.tensor(embeddings_df['label'], dtype=torch.long)\n",
    "\n",
    "# Instantiate the dataset\n",
    "video_dataset = VideoDataset(title_embeds, desc_embeds, trans_embeds, prompt_embeds, relevant_indices)\n",
    "\n",
    "# Setup the DataLoader to handle batching\n",
    "batch_size = 32\n",
    "video_dataloader = DataLoader(video_dataset, batch_size=batch_size, shuffle=True)\n"
   ]
  },
  {
   "cell_type": "code",
   "execution_count": 31,
   "metadata": {},
   "outputs": [
    {
     "name": "stdout",
     "output_type": "stream",
     "text": [
      "The dataset contains 876 samples.\n",
      "The title embeddings have shape: torch.Size([876, 384])\n",
      "The description embeddings have shape: torch.Size([876, 384])\n",
      "The transcript embeddings have shape: torch.Size([876, 384])\n",
      "The prompt embeddings have shape: torch.Size([876, 384])\n",
      "The relevant indices have shape: torch.Size([876])\n"
     ]
    }
   ],
   "source": [
    "print(f'The dataset contains {len(video_dataset)} samples.')\n",
    "print(f'The title embeddings have shape: {title_embeds.shape}')\n",
    "print(f'The description embeddings have shape: {desc_embeds.shape}')\n",
    "print(f'The transcript embeddings have shape: {trans_embeds.shape}')\n",
    "print(f'The prompt embeddings have shape: {prompt_embeds.shape}')\n",
    "print(f'The relevant indices have shape: {relevant_indices.shape}')"
   ]
  },
  {
   "cell_type": "code",
   "execution_count": 32,
   "metadata": {},
   "outputs": [
    {
     "data": {
      "text/plain": [
       "torch.Size([876, 384])"
      ]
     },
     "execution_count": 32,
     "metadata": {},
     "output_type": "execute_result"
    }
   ],
   "source": [
    "video_dataset.title_embeds.shape"
   ]
  },
  {
   "cell_type": "markdown",
   "metadata": {},
   "source": [
    "### Initial results - No training"
   ]
  },
  {
   "cell_type": "code",
   "execution_count": 42,
   "metadata": {},
   "outputs": [
    {
     "name": "stdout",
     "output_type": "stream",
     "text": [
      "Accuracy: 56.85%\n"
     ]
    }
   ],
   "source": [
    "def initialize_model(embed_dim):\n",
    "    model = VideoRecommendationModel(embed_dim=embed_dim)\n",
    "    return model\n",
    "\n",
    "# Create a dataframe with all the correct/incorrect predictions\n",
    "# Setup the loss function\n",
    "loss_function = nn.BCEWithLogitsLoss()\n",
    "\n",
    "# Setup the optimizer\n",
    "optimizer = optim.Adam(model.parameters(), lr=0.001)  # You can adjust the learning rate as needed\n",
    "model = initialize_model(embed_dim)\n",
    "predictions = pd.DataFrame(columns=['video_id', 'hf'])\n",
    "cosine_similarities = model(title_embeds, desc_embeds, trans_embeds, prompt_embeds, relevant_indices)\n",
    "video_names = similarities_df.index.tolist()\n",
    "true_index = list(range(len(video_names)))\n",
    "predicted_index = torch.argmax(cosine_similarities, dim=1).tolist()\n",
    "\n",
    "print(f'Accuracy: {sum([1 for i, j in zip(true_index, predicted_index) if i == j]) / len(true_index) * 100:.2f}%')"
   ]
  },
  {
   "cell_type": "markdown",
   "metadata": {},
   "source": [
    "### BCE Loss"
   ]
  },
  {
   "cell_type": "markdown",
   "metadata": {},
   "source": [
    "#### Train"
   ]
  },
  {
   "cell_type": "code",
   "execution_count": 43,
   "metadata": {},
   "outputs": [],
   "source": [
    "def train(model, optimizer, loss_function, dataloader, epochs):\n",
    "    model.train()  # Set the model to training mode\n",
    "\n",
    "    for epoch in range(epochs):\n",
    "        total_loss = 0\n",
    "        for title_batch, desc_batch, trans_batch, prompt_batch, indices_batch in dataloader:\n",
    "            current_batch_size = title_batch.shape[0]\n",
    "            optimizer.zero_grad()  # Clear gradients\n",
    "\n",
    "            # Forward pass: Compute the cosine similarities\n",
    "            cosine_similarities = model(title_batch, desc_batch, trans_batch, prompt_batch, list(range(current_batch_size)))  # Shape: [batch_size, batch_size]\n",
    "            \n",
    "            # Create a target matrix where only the diagonal elements are 1\n",
    "            targets = torch.eye(current_batch_size, dtype=torch.float32)\n",
    "\n",
    "            # Compute loss\n",
    "            loss = loss_function(cosine_similarities, targets)\n",
    "\n",
    "            # Backpropagation\n",
    "            loss.backward()\n",
    "\n",
    "            # Update model parameters\n",
    "            optimizer.step()\n",
    "\n",
    "            total_loss += loss.item()\n",
    "\n",
    "        # Optionally print average loss per epoch\n",
    "        if (epoch + 1) % 10 == 0:\n",
    "            average_loss = total_loss / len(dataloader)\n",
    "            print(f'Epoch [{epoch + 1}/{epochs}], Average Loss: {average_loss:.4f}')"
   ]
  },
  {
   "cell_type": "code",
   "execution_count": 44,
   "metadata": {},
   "outputs": [
    {
     "name": "stdout",
     "output_type": "stream",
     "text": [
      "Epoch [10/500], Average Loss: 0.8319\n",
      "Epoch [20/500], Average Loss: 0.8264\n",
      "Epoch [30/500], Average Loss: 0.8169\n",
      "Epoch [40/500], Average Loss: 0.8114\n",
      "Epoch [50/500], Average Loss: 0.8068\n",
      "Epoch [60/500], Average Loss: 0.8057\n",
      "Epoch [70/500], Average Loss: 0.8040\n",
      "Epoch [80/500], Average Loss: 0.8041\n",
      "Epoch [90/500], Average Loss: 0.8025\n",
      "Epoch [100/500], Average Loss: 0.8024\n",
      "Epoch [110/500], Average Loss: 0.8020\n",
      "Epoch [120/500], Average Loss: 0.8022\n",
      "Epoch [130/500], Average Loss: 0.8011\n",
      "Epoch [140/500], Average Loss: 0.7998\n",
      "Epoch [150/500], Average Loss: 0.8011\n",
      "Epoch [160/500], Average Loss: 0.8008\n",
      "Epoch [170/500], Average Loss: 0.8013\n",
      "Epoch [180/500], Average Loss: 0.8002\n",
      "Epoch [190/500], Average Loss: 0.8009\n",
      "Epoch [200/500], Average Loss: 0.8006\n",
      "Epoch [210/500], Average Loss: 0.8001\n",
      "Epoch [220/500], Average Loss: 0.8003\n",
      "Epoch [230/500], Average Loss: 0.8001\n",
      "Epoch [240/500], Average Loss: 0.8001\n",
      "Epoch [250/500], Average Loss: 0.8000\n",
      "Epoch [260/500], Average Loss: 0.8001\n",
      "Epoch [270/500], Average Loss: 0.8012\n",
      "Epoch [280/500], Average Loss: 0.7996\n",
      "Epoch [290/500], Average Loss: 0.7994\n",
      "Epoch [300/500], Average Loss: 0.8002\n",
      "Epoch [310/500], Average Loss: 0.7998\n",
      "Epoch [320/500], Average Loss: 0.8001\n",
      "Epoch [330/500], Average Loss: 0.8006\n",
      "Epoch [340/500], Average Loss: 0.8013\n",
      "Epoch [350/500], Average Loss: 0.7997\n",
      "Epoch [360/500], Average Loss: 0.8011\n",
      "Epoch [370/500], Average Loss: 0.8006\n",
      "Epoch [380/500], Average Loss: 0.8003\n",
      "Epoch [390/500], Average Loss: 0.8012\n",
      "Epoch [400/500], Average Loss: 0.8002\n",
      "Epoch [410/500], Average Loss: 0.8001\n",
      "Epoch [420/500], Average Loss: 0.7998\n",
      "Epoch [430/500], Average Loss: 0.8004\n",
      "Epoch [440/500], Average Loss: 0.7996\n",
      "Epoch [450/500], Average Loss: 0.8007\n",
      "Epoch [460/500], Average Loss: 0.7988\n",
      "Epoch [470/500], Average Loss: 0.8002\n",
      "Epoch [480/500], Average Loss: 0.8010\n",
      "Epoch [490/500], Average Loss: 0.7998\n",
      "Epoch [500/500], Average Loss: 0.8000\n"
     ]
    }
   ],
   "source": [
    "# Define the number of epochs\n",
    "num_epochs = 500\n",
    "\n",
    "# Call the train function\n",
    "optimizer = optim.Adam(model.parameters())\n",
    "train(model, optimizer, loss_function, video_dataloader, num_epochs)"
   ]
  },
  {
   "cell_type": "markdown",
   "metadata": {},
   "source": [
    "#### Evaluation"
   ]
  },
  {
   "cell_type": "code",
   "execution_count": 45,
   "metadata": {},
   "outputs": [
    {
     "name": "stdout",
     "output_type": "stream",
     "text": [
      "Accuracy: 55.02%\n"
     ]
    }
   ],
   "source": [
    "# Create a dataframe with all the correct/incorrect predictions\n",
    "model.eval()  # Set the model to evaluation mode\n",
    "predictions = pd.DataFrame(columns=['video_id', 'hf'])\n",
    "cosine_similarities = model(title_embeds, desc_embeds, trans_embeds, prompt_embeds, relevant_indices)\n",
    "video_names = similarities_df.index.tolist()\n",
    "\n",
    "true_index = list(range(len(video_names)))\n",
    "predicted_index = torch.argmax(cosine_similarities, dim=1).tolist()\n",
    "\n",
    "print(f'Accuracy: {sum([1 for i, j in zip(true_index, predicted_index) if i == j]) / len(true_index) * 100:.2f}%')"
   ]
  },
  {
   "cell_type": "markdown",
   "metadata": {},
   "source": [
    "Seems like the accuracy actually went LOWER, OMEGALUL"
   ]
  },
  {
   "cell_type": "markdown",
   "metadata": {},
   "source": [
    "### Pairwise Ranking Loss"
   ]
  },
  {
   "cell_type": "markdown",
   "metadata": {},
   "source": [
    "#### Train"
   ]
  },
  {
   "cell_type": "code",
   "execution_count": 46,
   "metadata": {},
   "outputs": [],
   "source": [
    "def train(model, optimizer, dataloader, epochs):\n",
    "    model.train()  # Set the model to training mode\n",
    "    margin = 1.0  # Margin for ranking loss\n",
    "    criterion = nn.MarginRankingLoss(margin=margin)\n",
    "\n",
    "    for epoch in range(epochs):\n",
    "        total_loss = 0\n",
    "        for title_batch, desc_batch, trans_batch, prompt_batch, indices_batch in dataloader:\n",
    "            current_batch_size = title_batch.shape[0]\n",
    "            optimizer.zero_grad()  # Clear gradients\n",
    "\n",
    "            # Forward pass: Compute the cosine similarities\n",
    "            cosine_similarities = model(title_batch, desc_batch, trans_batch, prompt_batch, list(range(current_batch_size)))  # Shape: [batch_size, batch_size]\n",
    "            \n",
    "            # Compute the pairwise ranking loss\n",
    "            loss = 0\n",
    "            for i in range(current_batch_size):\n",
    "                # Positive examples are the diagonal elements\n",
    "                positive_examples = cosine_similarities[i, i].expand(current_batch_size - 1)\n",
    "                # Negative examples are all non-diagonal elements in the row\n",
    "                negative_examples = torch.cat([cosine_similarities[i, :i], cosine_similarities[i, i+1:]])\n",
    "                # Targets: 1's indicating positive examples should have higher scores\n",
    "                targets = torch.ones(current_batch_size - 1)\n",
    "                loss += criterion(positive_examples, negative_examples, targets)\n",
    "\n",
    "            loss /= current_batch_size  # Average the loss over the number of comparisons in the batch\n",
    "\n",
    "            # Backpropagation\n",
    "            loss.backward()\n",
    "\n",
    "            # Update model parameters\n",
    "            optimizer.step()\n",
    "\n",
    "            total_loss += loss.item()\n",
    "\n",
    "        # Optionally print average loss per epoch\n",
    "        if (epoch + 1) % 10 == 0:\n",
    "            average_loss = total_loss / len(dataloader)\n",
    "            print(f'Epoch [{epoch + 1}/{epochs}], Average Loss: {average_loss:.4f}')\n",
    "\n"
   ]
  },
  {
   "cell_type": "code",
   "execution_count": 38,
   "metadata": {},
   "outputs": [
    {
     "name": "stdout",
     "output_type": "stream",
     "text": [
      "Epoch [10/100], Average Loss: 0.6178\n",
      "Epoch [20/100], Average Loss: 0.6150\n",
      "Epoch [30/100], Average Loss: 0.6156\n",
      "Epoch [40/100], Average Loss: 0.6163\n",
      "Epoch [50/100], Average Loss: 0.6185\n",
      "Epoch [60/100], Average Loss: 0.6182\n",
      "Epoch [70/100], Average Loss: 0.6169\n",
      "Epoch [80/100], Average Loss: 0.6148\n",
      "Epoch [90/100], Average Loss: 0.6163\n",
      "Epoch [100/100], Average Loss: 0.6158\n"
     ]
    }
   ],
   "source": [
    "# Define the number of epochs\n",
    "num_epochs = 100\n",
    "model = initialize_model(embed_dim)\n",
    "# Call the train function\n",
    "optimizer = optim.Adam(model.parameters(), lr=1e-3)\n",
    "train(model, optimizer, video_dataloader, num_epochs)"
   ]
  },
  {
   "cell_type": "markdown",
   "metadata": {},
   "source": [
    "#### Evaluation"
   ]
  },
  {
   "cell_type": "code",
   "execution_count": 39,
   "metadata": {},
   "outputs": [
    {
     "name": "stdout",
     "output_type": "stream",
     "text": [
      "Accuracy: 58.90%\n"
     ]
    }
   ],
   "source": [
    "# Create a dataframe with all the correct/incorrect predictions\n",
    "model.eval()  # Set the model to evaluation mode\n",
    "predictions = pd.DataFrame(columns=['video_id', 'hf'])\n",
    "cosine_similarities = model(title_embeds, desc_embeds, trans_embeds, prompt_embeds, relevant_indices)\n",
    "video_names = similarities_df.index.tolist()\n",
    "\n",
    "true_index = list(range(len(video_names)))\n",
    "predicted_index = torch.argmax(cosine_similarities, dim=1).tolist()\n",
    "\n",
    "print(f'Accuracy: {sum([1 for i, j in zip(true_index, predicted_index) if i == j]) / len(true_index) * 100:.2f}%')"
   ]
  },
  {
   "cell_type": "code",
   "execution_count": 40,
   "metadata": {},
   "outputs": [
    {
     "data": {
      "text/plain": [
       "Parameter containing:\n",
       "tensor([[-0.2028],\n",
       "        [ 0.8368],\n",
       "        [ 0.0283]], requires_grad=True)"
      ]
     },
     "execution_count": 40,
     "metadata": {},
     "output_type": "execute_result"
    }
   ],
   "source": [
    "model.weights"
   ]
  },
  {
   "cell_type": "markdown",
   "metadata": {},
   "source": [
    "## Next thing"
   ]
  },
  {
   "cell_type": "code",
   "execution_count": 34,
   "metadata": {},
   "outputs": [
    {
     "data": {
      "text/plain": [
       "'Why did the math book look so sad?\\n\\nBecause of all of its problems!'"
      ]
     },
     "execution_count": 34,
     "metadata": {},
     "output_type": "execute_result"
    }
   ],
   "source": [
    "from langchain_community.llms import Ollama\n",
    "from langchain_community.embeddings import OllamaEmbeddings\n",
    "\n",
    "MODEL = 'gemma:2b-instruct'\n",
    "model = Ollama(model=MODEL)\n",
    "embeddings = OllamaEmbeddings(model=MODEL)\n",
    "\n",
    "model.invoke('tell me a joke')"
   ]
  },
  {
   "cell_type": "code",
   "execution_count": 35,
   "metadata": {},
   "outputs": [],
   "source": [
    "from sentence_transformers import SentenceTransformer\n",
    "encoding_model = SentenceTransformer('sentence-transformers/all-MiniLM-L6-v2')\n",
    "\n",
    "encoding = encoding_model.encode('Tell me a joke')"
   ]
  },
  {
   "cell_type": "code",
   "execution_count": 39,
   "metadata": {},
   "outputs": [
    {
     "data": {
      "text/plain": [
       "\"**Video Summary:**\\n\\nThe video features a compilation of humorous clips featuring a man trying to gain muscle. The clips showcase various exercises, including bench pressing, koala bear workouts, and squirrel-related antics. The video highlights the man's impressive physique and the challenges he faces in achieving his fitness goals. It also includes a brief segment that explores the real-life implications of the video, addressing topics such as drug use and criminal activity.\""
      ]
     },
     "execution_count": 39,
     "metadata": {},
     "output_type": "execute_result"
    }
   ],
   "source": [
    "from langchain.prompts import PromptTemplate\n",
    "from langchain_core.output_parsers import StrOutputParser\n",
    "from utils.utils import get_video_transcript\n",
    "\n",
    "text_type = 'description'\n",
    "model = Ollama(model=MODEL)\n",
    "parser = StrOutputParser()\n",
    "template = \"\"\"\n",
    "    Please summarize the video {text_type}. \n",
    "    Start your summary with the phrase \"The video summary based on the {text_type} is:\" \n",
    "    and provide the summary right after.\n",
    "\n",
    "    text: {text}\n",
    "    \"\"\"\n",
    "\n",
    "prompt = PromptTemplate.from_template(template)\n",
    "chain = prompt | model | parser\n",
    "text = get_video_transcript('3JZ_D3ELwOQ')\n",
    "chain.invoke({\"text\":text, \"text_type\": text_type})"
   ]
  },
  {
   "cell_type": "code",
   "execution_count": 25,
   "metadata": {},
   "outputs": [],
   "source": [
    "def summarize_text(text, text_type, chain):\n",
    "    return chain.invoke({\"text\": text, \"text_type\": text_type})\n",
    "\n",
    "def process_summary(response: str, prefix: str) -> str:\n",
    "    if prefix in response:\n",
    "        summary_text = response.replace(prefix, \"\").strip()\n",
    "        summary_text = summary_text.strip('*').strip()\n",
    "        return summary_text\n",
    "    else:\n",
    "        return \"Summary extraction error: Unexpected response format.\""
   ]
  },
  {
   "cell_type": "code",
   "execution_count": 32,
   "metadata": {},
   "outputs": [
    {
     "name": "stdout",
     "output_type": "stream",
     "text": [
      "Video name - DeepMind’s New AI: Assistant From The Future!\n",
      "\n",
      "The provided video description contains an error, indicating an unexpected response format. Further analysis is required to extract a meaningful summary.\n",
      "The paper explores the potential of Google DeepMind's Gemini 1.5 Pro AI to perform various tasks, including weight lifting, code writing, and movie summarization. However, it acknowledges its significant limitations, such as its quadratic computational and memory complexity and accuracy degradation for long sequences of data. Despite these limitations, the paper highlights the impressive accuracy of GPT-4 Turbo, demonstrating its remarkable capabilities in language processing.\n",
      "\n",
      "Video name - Blender 4.1 - Create Virtual Worlds…For Free!\n",
      "\n",
      "The video explores the work of Andrew Price, an animator known for creating donut tutorials and a paper demonstrating simulations remarkably similar to reality. The video highlights the support of Patreon supporters who make Two Minute Papers possible.\n",
      "Blender 4.1 introduces significant improvements, including the creation of new 3D objects with logical patterns, efficient object baking, and enhanced quality of life features. It boasts a powerful compositor for image editing, a significantly sped-up video editor, and numerous improvements for geometry modeling and animation. The split viewer node enables easy comparison between before and after images. Additionally, Blender is open-source and available for free.\n",
      "\n",
      "Video name - OpenAI Sora: Beauty And Horror!\n",
      "\n",
      "The provided video description contains an unexpected response format, which prevents accurate extraction of the intended information.\n",
      "The video showcases OpenAI's impressive text-to-video AI capabilities. It features imaginative visuals, including a house tour, a racecar on roller skates, and a horse made of leaves. The video also demonstrates the AI's ability to create abstract animations and mix content from multiple videos. However, it can also produce imperfect videos due to the AI's imaginative nature.\n",
      "\n",
      "Video name - OpenAI Sora Just Supercharged Filmmaking!\n",
      "\n",
      "The conference \"Fully Connected\" aims to explore the convergence of creativity and artificial intelligence. The website provides resources, information, and schedules related to the event, along with articles and videos that offer insights into the discussions and presentations.\n",
      "\"The video highlights OpenAI's Sora, a groundbreaking text-to-video AI that allows users to generate videos from written descriptions. The video emphasizes the importance of storytelling and the potential of Sora to achieve the same level of acclaim as Pixar's first animated film. It also provides a glimpse into the horror segment of the upcoming Sora video, promising a unsettling and thought-provoking experience.\"\n",
      "\n",
      "Video name - NVIDIA GTC: This Is The Future Of Everything!\n",
      "\n",
      "The paper explores simulations that resemble reality and investigate their potential applications in artificial intelligence.\n",
      "The video highlights the impressive advancements in artificial intelligence (AI) and its transformative potential across industries. It showcases breakthroughs in AI hardware, such as the 2 and A2 chips, and emphasizes the importance of research papers in understanding and addressing challenges in AI. The video particularly spotlights the progress in AI-powered medical fields, including virtual screening and drug discovery. It also highlights the possibilities of AI through advanced technologies like Apple's Vision Pro glasses and the Lambda GPU Cloud.\n",
      "\n"
     ]
    }
   ],
   "source": [
    "import pandas as pd\n",
    "\n",
    "# Load the data\n",
    "videos_df = pd.read_csv('csvs/videos_df.csv')\n",
    "\n",
    "for i in range(5):\n",
    "    print(f'Video name - {videos_df[\"video_name\"][i]}\\n')\n",
    "    text = videos_df['video_description'][i]\n",
    "    summary = summarize_text(text, 'description', chain)\n",
    "    clean_summary = process_summary(summary, \"The video summary based on the description is:\")\n",
    "    print(f'{clean_summary}')\n",
    "    text2 = videos_df['video_transcript'][i]\n",
    "    summary2 = summarize_text(text2, 'transcript', chain)\n",
    "    clean_summary2 = process_summary(summary2, \"The video summary based on the transcript is:\")\n",
    "    print(f'{clean_summary2}\\n')"
   ]
  },
  {
   "cell_type": "code",
   "execution_count": null,
   "metadata": {},
   "outputs": [],
   "source": []
  }
 ],
 "metadata": {
  "kernelspec": {
   "display_name": "VFenv",
   "language": "python",
   "name": "python3"
  },
  "language_info": {
   "codemirror_mode": {
    "name": "ipython",
    "version": 3
   },
   "file_extension": ".py",
   "mimetype": "text/x-python",
   "name": "python",
   "nbconvert_exporter": "python",
   "pygments_lexer": "ipython3",
   "version": "3.11.4"
  }
 },
 "nbformat": 4,
 "nbformat_minor": 2
}
