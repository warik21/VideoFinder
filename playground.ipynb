{
 "cells": [
  {
   "cell_type": "code",
   "execution_count": 1,
   "metadata": {},
   "outputs": [],
   "source": [
    "from utils.utils import *\n",
    "from utils.generate_dfs import generate_videos_df, generate_similarities_df\n",
    "import os\n",
    "import pandas as pd"
   ]
  },
  {
   "cell_type": "code",
   "execution_count": null,
   "metadata": {},
   "outputs": [],
   "source": [
    "good_prompt = \"\"\"A video about [general theme] explored through [specific concept] \n",
    "                as revealed by [relevant element] in the context of [broader context].\n",
    "                \"\"\""
   ]
  },
  {
   "cell_type": "code",
   "execution_count": 20,
   "metadata": {},
   "outputs": [],
   "source": [
    "api_key = get_api_key(os.path.join('..', 'keys', 'VideoFinder', 'YouTubeAPIKey.txt'))\n",
    "device = \"cuda:0\" if torch.cuda.is_available() else \"cpu\"\n",
    "channels = ['https://www.youtube.com/@TwoMinutePapers', 'https://www.youtube.com/@bigthink', 'https://www.youtube.com/@TED']\n",
    "initialize_model()\n",
    "model = get_model()\n",
    "\n",
    "videos_df = pd.read_csv('csvs/videos_df.csv')"
   ]
  },
  {
   "cell_type": "code",
   "execution_count": 21,
   "metadata": {},
   "outputs": [],
   "source": [
    "# use generate_prompt on every row: \n",
    "videos_df['cue'] = videos_df.apply(lambda x: generate_prompt(x['Title'], x['Description'], x['Transcript'], model), axis=1)\n",
    "video_names = videos_df['Title'].tolist()"
   ]
  },
  {
   "cell_type": "code",
   "execution_count": 23,
   "metadata": {},
   "outputs": [
    {
     "data": {
      "text/plain": [
       "0    **A video about AI creativity, collaboration, ...\n",
       "1    **A video about AI-powered content creation an...\n",
       "2    **A video about personal growth, artistic expr...\n",
       "3    **A video about the uniqueness of individuals ...\n",
       "4    **A video about the importance of genuine unde...\n",
       "5    **A video about harnessing social media for gl...\n",
       "Name: cue, dtype: object"
      ]
     },
     "execution_count": 23,
     "metadata": {},
     "output_type": "execute_result"
    }
   ],
   "source": [
    "videos_df['cue']"
   ]
  },
  {
   "cell_type": "code",
   "execution_count": null,
   "metadata": {},
   "outputs": [],
   "source": [
    "from typing import Callable"
   ]
  },
  {
   "cell_type": "code",
   "execution_count": 26,
   "metadata": {},
   "outputs": [
    {
     "ename": "NameError",
     "evalue": "name 'function' is not defined",
     "output_type": "error",
     "traceback": [
      "\u001b[1;31m---------------------------------------------------------------------------\u001b[0m",
      "\u001b[1;31mNameError\u001b[0m                                 Traceback (most recent call last)",
      "Cell \u001b[1;32mIn[26], line 1\u001b[0m\n\u001b[1;32m----> 1\u001b[0m \u001b[38;5;28;01mdef\u001b[39;00m \u001b[38;5;21mget_embedding_function\u001b[39m(model_name, device\u001b[38;5;241m=\u001b[39m\u001b[38;5;124m\"\u001b[39m\u001b[38;5;124mcuda:0\u001b[39m\u001b[38;5;124m\"\u001b[39m) \u001b[38;5;241m-\u001b[39m\u001b[38;5;241m>\u001b[39m \u001b[43mfunction\u001b[49m:\n\u001b[0;32m      2\u001b[0m \u001b[38;5;250m    \u001b[39m\u001b[38;5;124;03m\"\"\"\u001b[39;00m\n\u001b[0;32m      3\u001b[0m \u001b[38;5;124;03m    Get an embedding function for a given model name.\u001b[39;00m\n\u001b[0;32m      4\u001b[0m \n\u001b[1;32m   (...)\u001b[0m\n\u001b[0;32m     14\u001b[0m \u001b[38;5;124;03m        print(embedding)\u001b[39;00m\n\u001b[0;32m     15\u001b[0m \u001b[38;5;124;03m    \"\"\"\u001b[39;00m\n\u001b[0;32m     16\u001b[0m     model \u001b[38;5;241m=\u001b[39m AutoModel\u001b[38;5;241m.\u001b[39mfrom_pretrained(model_name)\n",
      "\u001b[1;31mNameError\u001b[0m: name 'function' is not defined"
     ]
    }
   ],
   "source": [
    "def get_embedding_function(model_name, device=\"cuda:0\") -> Callable[[str], np.ndarray]:\n",
    "    \"\"\"\n",
    "    Get an embedding function for a given model name.\n",
    "\n",
    "    Args:\n",
    "        model_name (str): Name of the pretrained model.\n",
    "        device (str): Device to use for inference (default is \"cuda:0\" for GPU).\n",
    "\n",
    "    Returns:\n",
    "        Callable[[str], np.ndarray]: A function that takes text input and returns its embedding.\n",
    "    Example:\n",
    "        embedding_function = get_embedding_function('sentence-transformers/all-MiniLM-L6-v2')\n",
    "        embedding = embedding_function(\"This is a sample text.\")\n",
    "        print(embedding)\n",
    "    \"\"\"\n",
    "    model = AutoModel.from_pretrained(model_name)\n",
    "    model.to(device)\n",
    "\n",
    "    # Define the embedding function\n",
    "    def embedding_function(text):\n",
    "        if not text.strip():\n",
    "            print(\"Attempted to get embedding for empty text.\")\n",
    "            return []\n",
    "        model.encode(text).reshape(1, -1)     \n",
    "        \n",
    "    return embedding_function"
   ]
  },
  {
   "cell_type": "code",
   "execution_count": 25,
   "metadata": {},
   "outputs": [
    {
     "ename": "NameError",
     "evalue": "name 'get_embedding_function' is not defined",
     "output_type": "error",
     "traceback": [
      "\u001b[1;31m---------------------------------------------------------------------------\u001b[0m",
      "\u001b[1;31mNameError\u001b[0m                                 Traceback (most recent call last)",
      "Cell \u001b[1;32mIn[25], line 2\u001b[0m\n\u001b[0;32m      1\u001b[0m embedding_model \u001b[38;5;241m=\u001b[39m SentenceTransformer(\u001b[38;5;124m'\u001b[39m\u001b[38;5;124mall-MiniLM-L6-v2\u001b[39m\u001b[38;5;124m'\u001b[39m)\n\u001b[1;32m----> 2\u001b[0m embedding_func \u001b[38;5;241m=\u001b[39m \u001b[43mget_embedding_function\u001b[49m(embedding_model)\n",
      "\u001b[1;31mNameError\u001b[0m: name 'get_embedding_function' is not defined"
     ]
    }
   ],
   "source": [
    "embedding_model = SentenceTransformer('all-MiniLM-L6-v2')\n",
    "embedding_func = get_embedding_function(embedding_model)"
   ]
  },
  {
   "cell_type": "code",
   "execution_count": null,
   "metadata": {},
   "outputs": [],
   "source": []
  }
 ],
 "metadata": {
  "kernelspec": {
   "display_name": "VFenv",
   "language": "python",
   "name": "python3"
  },
  "language_info": {
   "codemirror_mode": {
    "name": "ipython",
    "version": 3
   },
   "file_extension": ".py",
   "mimetype": "text/x-python",
   "name": "python",
   "nbconvert_exporter": "python",
   "pygments_lexer": "ipython3",
   "version": "3.11.4"
  }
 },
 "nbformat": 4,
 "nbformat_minor": 2
}
