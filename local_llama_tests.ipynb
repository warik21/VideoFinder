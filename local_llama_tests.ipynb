{
 "cells": [
  {
   "cell_type": "code",
   "execution_count": 1,
   "metadata": {},
   "outputs": [
    {
     "data": {
      "text/plain": [
       "'Why did the golfer wear two pairs of pants?\\n\\nAnswer: In case he got a hole in one!'"
      ]
     },
     "execution_count": 1,
     "metadata": {},
     "output_type": "execute_result"
    }
   ],
   "source": [
    "from langchain_community.llms import Ollama\n",
    "from langchain_community.embeddings import OllamaEmbeddings\n",
    "\n",
    "MODEL = \"gemma:instruct\"\n",
    "\n",
    "model = Ollama(model=MODEL)\n",
    "embeddings = OllamaEmbeddings(model=MODEL)\n",
    "\n",
    "model.invoke(\"Tell me a joke\")"
   ]
  },
  {
   "cell_type": "code",
   "execution_count": 4,
   "metadata": {},
   "outputs": [],
   "source": [
    "embedding = embeddings.embed_query(\"Tell me a joke\")"
   ]
  },
  {
   "cell_type": "code",
   "execution_count": 6,
   "metadata": {},
   "outputs": [
    {
     "data": {
      "text/plain": [
       "3072"
      ]
     },
     "execution_count": 6,
     "metadata": {},
     "output_type": "execute_result"
    }
   ],
   "source": [
    "len(embedding)"
   ]
  },
  {
   "cell_type": "code",
   "execution_count": 2,
   "metadata": {},
   "outputs": [],
   "source": [
    "import pandas as pd\n",
    "data = pd.read_csv(r\"C:\\Users\\eriki\\OneDrive\\Documents\\all_folder\\Job_interviews\\Assignments\\SparkBeyond\\feature_interpretation_examples.csv\")"
   ]
  },
  {
   "cell_type": "code",
   "execution_count": 3,
   "metadata": {},
   "outputs": [
    {
     "data": {
      "text/html": [
       "<div>\n",
       "<style scoped>\n",
       "    .dataframe tbody tr th:only-of-type {\n",
       "        vertical-align: middle;\n",
       "    }\n",
       "\n",
       "    .dataframe tbody tr th {\n",
       "        vertical-align: top;\n",
       "    }\n",
       "\n",
       "    .dataframe thead th {\n",
       "        text-align: right;\n",
       "    }\n",
       "</style>\n",
       "<table border=\"1\" class=\"dataframe\">\n",
       "  <thead>\n",
       "    <tr style=\"text-align: right;\">\n",
       "      <th></th>\n",
       "      <th>project_name</th>\n",
       "      <th>project_description</th>\n",
       "      <th>feature</th>\n",
       "      <th>interpretation</th>\n",
       "      <th>score</th>\n",
       "    </tr>\n",
       "  </thead>\n",
       "  <tbody>\n",
       "    <tr>\n",
       "      <th>0</th>\n",
       "      <td>AirBNB</td>\n",
       "      <td>Predict average price for AirBnb listings in a...</td>\n",
       "      <td>distinct(slidingSubsets(flatten(amenities of z...</td>\n",
       "      <td>Some listing in the area include a kitchen, a ...</td>\n",
       "      <td>1.0</td>\n",
       "    </tr>\n",
       "    <tr>\n",
       "      <th>1</th>\n",
       "      <td>AirBNB</td>\n",
       "      <td>Predict average price for AirBnb listings in a...</td>\n",
       "      <td>distinct(slidingSubsets(flatten(amenities of z...</td>\n",
       "      <td>Some houses in the area contain a kitchen, a d...</td>\n",
       "      <td>1.0</td>\n",
       "    </tr>\n",
       "    <tr>\n",
       "      <th>2</th>\n",
       "      <td>AirBNB</td>\n",
       "      <td>Predict average price for AirBnb listings in a...</td>\n",
       "      <td>elementCount(flatten(extractKeys(histogram(ame...</td>\n",
       "      <td>More than 3 buildings in the area contain elev...</td>\n",
       "      <td>1.0</td>\n",
       "    </tr>\n",
       "    <tr>\n",
       "      <th>3</th>\n",
       "      <td>AirBNB</td>\n",
       "      <td>Predict average price for AirBnb listings in a...</td>\n",
       "      <td>extractKeys(normalizedHistogram(flatten(amenit...</td>\n",
       "      <td>The words 'conditioning' and 'first' appear in...</td>\n",
       "      <td>1.0</td>\n",
       "    </tr>\n",
       "    <tr>\n",
       "      <th>4</th>\n",
       "      <td>AirBNB</td>\n",
       "      <td>Predict average price for AirBnb listings in a...</td>\n",
       "      <td>elementCount(slidingSubsets(flatten(amenities ...</td>\n",
       "      <td>The words 'kit' and 'tv' appear together more ...</td>\n",
       "      <td>1.0</td>\n",
       "    </tr>\n",
       "  </tbody>\n",
       "</table>\n",
       "</div>"
      ],
      "text/plain": [
       "  project_name                                project_description  \\\n",
       "0       AirBNB  Predict average price for AirBnb listings in a...   \n",
       "1       AirBNB  Predict average price for AirBnb listings in a...   \n",
       "2       AirBNB  Predict average price for AirBnb listings in a...   \n",
       "3       AirBNB  Predict average price for AirBnb listings in a...   \n",
       "4       AirBNB  Predict average price for AirBnb listings in a...   \n",
       "\n",
       "                                             feature  \\\n",
       "0  distinct(slidingSubsets(flatten(amenities of z...   \n",
       "1  distinct(slidingSubsets(flatten(amenities of z...   \n",
       "2  elementCount(flatten(extractKeys(histogram(ame...   \n",
       "3  extractKeys(normalizedHistogram(flatten(amenit...   \n",
       "4  elementCount(slidingSubsets(flatten(amenities ...   \n",
       "\n",
       "                                      interpretation  score  \n",
       "0  Some listing in the area include a kitchen, a ...    1.0  \n",
       "1  Some houses in the area contain a kitchen, a d...    1.0  \n",
       "2  More than 3 buildings in the area contain elev...    1.0  \n",
       "3  The words 'conditioning' and 'first' appear in...    1.0  \n",
       "4  The words 'kit' and 'tv' appear together more ...    1.0  "
      ]
     },
     "execution_count": 3,
     "metadata": {},
     "output_type": "execute_result"
    }
   ],
   "source": [
    "data.head()"
   ]
  },
  {
   "cell_type": "code",
   "execution_count": 4,
   "metadata": {},
   "outputs": [],
   "source": [
    "def load_and_remove_few_shot_examples(df, score, num_examples=3):\n",
    "    \"\"\"\n",
    "    Load a specified number of few-shot examples from the dataframe based on the given score\n",
    "    and remove these examples from the original dataframe.\n",
    "    \"\"\"\n",
    "    examples = []\n",
    "    filtered_df = df[df['score'] == score].head(num_examples)\n",
    "    indices_to_remove = filtered_df.index.tolist()\n",
    "    \n",
    "    for index, row in filtered_df.iterrows():\n",
    "        example = {\n",
    "            \"project_description\": row['project_description'],\n",
    "            \"feature\": row['feature'],\n",
    "            \"interpretation\": row['interpretation'],\n",
    "            \"score\": int(row['score'])\n",
    "        }\n",
    "        examples.append(example)\n",
    "    \n",
    "    # Remove the selected examples from the original dataframe\n",
    "    df = df.drop(indices_to_remove)\n",
    "    \n",
    "    return examples, df\n",
    "\n",
    "few_shot_examples_1, data = load_and_remove_few_shot_examples(data, score=1, num_examples=3)\n",
    "\n",
    "few_shot_examples_0, data = load_and_remove_few_shot_examples(data, score=0, num_examples=3)\n",
    "\n",
    "few_shot_examples = few_shot_examples_1 + few_shot_examples_0"
   ]
  },
  {
   "cell_type": "code",
   "execution_count": 5,
   "metadata": {},
   "outputs": [
    {
     "data": {
      "text/plain": [
       "{'project_description': 'Predict average price for AirBnb listings in a zipcode',\n",
       " 'feature': 'distinct(slidingSubsets(flatten(amenities of zipcode))) contains (\"kitchen\", \"pets\", \"allowed\", \"doorman\")',\n",
       " 'interpretation': 'Some listing in the area include a kitchen, a doorman, and allow pets',\n",
       " 'score': 1}"
      ]
     },
     "execution_count": 5,
     "metadata": {},
     "output_type": "execute_result"
    }
   ],
   "source": [
    "few_shot_examples[0]"
   ]
  },
  {
   "cell_type": "code",
   "execution_count": 17,
   "metadata": {},
   "outputs": [],
   "source": [
    "def score_handling(score):\n",
    "    if score == 1:\n",
    "        return 0.9\n",
    "    if score == 0:\n",
    "      return 0.1"
   ]
  },
  {
   "cell_type": "code",
   "execution_count": 18,
   "metadata": {},
   "outputs": [],
   "source": [
    "def create_prompt(project_description, feature, interpretation, examples):\n",
    "    prompt = \"\"\"\n",
    "    Your answer to this prompt should be a single number between 0 and 1. \n",
    "    Given the following project description, feature, and its interpretation, \n",
    "    score the quality of the interpretation. Examples:\\n\"\n",
    "    \"\"\"\n",
    "    \n",
    "    for example in examples:\n",
    "        prompt += f\"Project Description: {example['project_description']}\\n\"\n",
    "        prompt += f\"Feature: {example['feature']}\\nInterpretation: {example['interpretation']}\\nScore: {score_handling(example['score'])}\\n\"\n",
    "    prompt += f\"Project Description: {project_description}\\n\"\n",
    "    prompt += f\"Feature: {feature}\\nInterpretation: {interpretation}\\nScore:\"\n",
    "    return prompt"
   ]
  },
  {
   "cell_type": "code",
   "execution_count": 19,
   "metadata": {},
   "outputs": [],
   "source": [
    "def score_with_llama(row, examples=[]):\n",
    "    prompt = create_prompt(row['project_description'], row['feature'], \n",
    "                           row['interpretation'], examples)\n",
    "    \n",
    "    score = model.invoke(prompt)\n",
    "    \n",
    "    try:\n",
    "        return float(score)\n",
    "    except ValueError:\n",
    "        return 0  # Handle unexpected output"
   ]
  },
  {
   "cell_type": "code",
   "execution_count": 20,
   "metadata": {},
   "outputs": [],
   "source": [
    "df_temp = data.head().copy()\n",
    "df_temp['llama3_zero_shot_score'] = df_temp.apply(lambda row: score_with_llama(row), axis=1)\n",
    "df_temp['llama3_few_shot_score'] = df_temp.apply(lambda row: score_with_llama(row, few_shot_examples), axis=1)"
   ]
  },
  {
   "cell_type": "code",
   "execution_count": 21,
   "metadata": {},
   "outputs": [
    {
     "data": {
      "text/html": [
       "<div>\n",
       "<style scoped>\n",
       "    .dataframe tbody tr th:only-of-type {\n",
       "        vertical-align: middle;\n",
       "    }\n",
       "\n",
       "    .dataframe tbody tr th {\n",
       "        vertical-align: top;\n",
       "    }\n",
       "\n",
       "    .dataframe thead th {\n",
       "        text-align: right;\n",
       "    }\n",
       "</style>\n",
       "<table border=\"1\" class=\"dataframe\">\n",
       "  <thead>\n",
       "    <tr style=\"text-align: right;\">\n",
       "      <th></th>\n",
       "      <th>project_name</th>\n",
       "      <th>project_description</th>\n",
       "      <th>feature</th>\n",
       "      <th>interpretation</th>\n",
       "      <th>score</th>\n",
       "      <th>llama3_zero_shot_score</th>\n",
       "      <th>llama3_few_shot_score</th>\n",
       "    </tr>\n",
       "  </thead>\n",
       "  <tbody>\n",
       "    <tr>\n",
       "      <th>3</th>\n",
       "      <td>AirBNB</td>\n",
       "      <td>Predict average price for AirBnb listings in a...</td>\n",
       "      <td>extractKeys(normalizedHistogram(flatten(amenit...</td>\n",
       "      <td>The words 'conditioning' and 'first' appear in...</td>\n",
       "      <td>1.0</td>\n",
       "      <td>0.8</td>\n",
       "      <td>0.8</td>\n",
       "    </tr>\n",
       "    <tr>\n",
       "      <th>4</th>\n",
       "      <td>AirBNB</td>\n",
       "      <td>Predict average price for AirBnb listings in a...</td>\n",
       "      <td>elementCount(slidingSubsets(flatten(amenities ...</td>\n",
       "      <td>The words 'kit' and 'tv' appear together more ...</td>\n",
       "      <td>1.0</td>\n",
       "      <td>0.0</td>\n",
       "      <td>0.6</td>\n",
       "    </tr>\n",
       "    <tr>\n",
       "      <th>5</th>\n",
       "      <td>AirBNB</td>\n",
       "      <td>Predict average price for AirBnb listings in a...</td>\n",
       "      <td>elementCount(slidingSubsets(flatten(amenities ...</td>\n",
       "      <td>A kitchen, a doorman and an elevator are inclu...</td>\n",
       "      <td>1.0</td>\n",
       "      <td>0.6</td>\n",
       "      <td>0.8</td>\n",
       "    </tr>\n",
       "    <tr>\n",
       "      <th>6</th>\n",
       "      <td>AirBNB</td>\n",
       "      <td>Predict average price for AirBnb listings in a...</td>\n",
       "      <td>mapKeysToTextList(histogram(flatten(amenities ...</td>\n",
       "      <td>The words 'detector', 'essentials', 'shampoo',...</td>\n",
       "      <td>1.0</td>\n",
       "      <td>0.9</td>\n",
       "      <td>0.8</td>\n",
       "    </tr>\n",
       "    <tr>\n",
       "      <th>7</th>\n",
       "      <td>AirBNB</td>\n",
       "      <td>Predict average price for AirBnb listings in a...</td>\n",
       "      <td>flatten(extractKeys(histogram(amenities of zip...</td>\n",
       "      <td>The amenities of listings in the area include ...</td>\n",
       "      <td>1.0</td>\n",
       "      <td>0.8</td>\n",
       "      <td>0.8</td>\n",
       "    </tr>\n",
       "  </tbody>\n",
       "</table>\n",
       "</div>"
      ],
      "text/plain": [
       "  project_name                                project_description  \\\n",
       "3       AirBNB  Predict average price for AirBnb listings in a...   \n",
       "4       AirBNB  Predict average price for AirBnb listings in a...   \n",
       "5       AirBNB  Predict average price for AirBnb listings in a...   \n",
       "6       AirBNB  Predict average price for AirBnb listings in a...   \n",
       "7       AirBNB  Predict average price for AirBnb listings in a...   \n",
       "\n",
       "                                             feature  \\\n",
       "3  extractKeys(normalizedHistogram(flatten(amenit...   \n",
       "4  elementCount(slidingSubsets(flatten(amenities ...   \n",
       "5  elementCount(slidingSubsets(flatten(amenities ...   \n",
       "6  mapKeysToTextList(histogram(flatten(amenities ...   \n",
       "7  flatten(extractKeys(histogram(amenities of zip...   \n",
       "\n",
       "                                      interpretation  score  \\\n",
       "3  The words 'conditioning' and 'first' appear in...    1.0   \n",
       "4  The words 'kit' and 'tv' appear together more ...    1.0   \n",
       "5  A kitchen, a doorman and an elevator are inclu...    1.0   \n",
       "6  The words 'detector', 'essentials', 'shampoo',...    1.0   \n",
       "7  The amenities of listings in the area include ...    1.0   \n",
       "\n",
       "   llama3_zero_shot_score  llama3_few_shot_score  \n",
       "3                     0.8                    0.8  \n",
       "4                     0.0                    0.6  \n",
       "5                     0.6                    0.8  \n",
       "6                     0.9                    0.8  \n",
       "7                     0.8                    0.8  "
      ]
     },
     "execution_count": 21,
     "metadata": {},
     "output_type": "execute_result"
    }
   ],
   "source": [
    "df_temp.head()"
   ]
  },
  {
   "cell_type": "code",
   "execution_count": 22,
   "metadata": {},
   "outputs": [
    {
     "data": {
      "text/html": [
       "<div>\n",
       "<style scoped>\n",
       "    .dataframe tbody tr th:only-of-type {\n",
       "        vertical-align: middle;\n",
       "    }\n",
       "\n",
       "    .dataframe tbody tr th {\n",
       "        vertical-align: top;\n",
       "    }\n",
       "\n",
       "    .dataframe thead th {\n",
       "        text-align: right;\n",
       "    }\n",
       "</style>\n",
       "<table border=\"1\" class=\"dataframe\">\n",
       "  <thead>\n",
       "    <tr style=\"text-align: right;\">\n",
       "      <th></th>\n",
       "      <th>project_description</th>\n",
       "      <th>feature</th>\n",
       "      <th>interpretation</th>\n",
       "      <th>score</th>\n",
       "      <th>llama3_zero_shot_score</th>\n",
       "      <th>llama3_few_shot_score</th>\n",
       "    </tr>\n",
       "  </thead>\n",
       "  <tbody>\n",
       "    <tr>\n",
       "      <th>3</th>\n",
       "      <td>Predict average price for AirBnb listings in a...</td>\n",
       "      <td>extractKeys(normalizedHistogram(flatten(amenit...</td>\n",
       "      <td>The words 'conditioning' and 'first' appear in...</td>\n",
       "      <td>1.0</td>\n",
       "      <td>0.8</td>\n",
       "      <td>0.8</td>\n",
       "    </tr>\n",
       "    <tr>\n",
       "      <th>4</th>\n",
       "      <td>Predict average price for AirBnb listings in a...</td>\n",
       "      <td>elementCount(slidingSubsets(flatten(amenities ...</td>\n",
       "      <td>The words 'kit' and 'tv' appear together more ...</td>\n",
       "      <td>1.0</td>\n",
       "      <td>0.0</td>\n",
       "      <td>0.6</td>\n",
       "    </tr>\n",
       "    <tr>\n",
       "      <th>5</th>\n",
       "      <td>Predict average price for AirBnb listings in a...</td>\n",
       "      <td>elementCount(slidingSubsets(flatten(amenities ...</td>\n",
       "      <td>A kitchen, a doorman and an elevator are inclu...</td>\n",
       "      <td>1.0</td>\n",
       "      <td>0.6</td>\n",
       "      <td>0.8</td>\n",
       "    </tr>\n",
       "    <tr>\n",
       "      <th>6</th>\n",
       "      <td>Predict average price for AirBnb listings in a...</td>\n",
       "      <td>mapKeysToTextList(histogram(flatten(amenities ...</td>\n",
       "      <td>The words 'detector', 'essentials', 'shampoo',...</td>\n",
       "      <td>1.0</td>\n",
       "      <td>0.9</td>\n",
       "      <td>0.8</td>\n",
       "    </tr>\n",
       "    <tr>\n",
       "      <th>7</th>\n",
       "      <td>Predict average price for AirBnb listings in a...</td>\n",
       "      <td>flatten(extractKeys(histogram(amenities of zip...</td>\n",
       "      <td>The amenities of listings in the area include ...</td>\n",
       "      <td>1.0</td>\n",
       "      <td>0.8</td>\n",
       "      <td>0.8</td>\n",
       "    </tr>\n",
       "  </tbody>\n",
       "</table>\n",
       "</div>"
      ],
      "text/plain": [
       "                                 project_description  \\\n",
       "3  Predict average price for AirBnb listings in a...   \n",
       "4  Predict average price for AirBnb listings in a...   \n",
       "5  Predict average price for AirBnb listings in a...   \n",
       "6  Predict average price for AirBnb listings in a...   \n",
       "7  Predict average price for AirBnb listings in a...   \n",
       "\n",
       "                                             feature  \\\n",
       "3  extractKeys(normalizedHistogram(flatten(amenit...   \n",
       "4  elementCount(slidingSubsets(flatten(amenities ...   \n",
       "5  elementCount(slidingSubsets(flatten(amenities ...   \n",
       "6  mapKeysToTextList(histogram(flatten(amenities ...   \n",
       "7  flatten(extractKeys(histogram(amenities of zip...   \n",
       "\n",
       "                                      interpretation  score  \\\n",
       "3  The words 'conditioning' and 'first' appear in...    1.0   \n",
       "4  The words 'kit' and 'tv' appear together more ...    1.0   \n",
       "5  A kitchen, a doorman and an elevator are inclu...    1.0   \n",
       "6  The words 'detector', 'essentials', 'shampoo',...    1.0   \n",
       "7  The amenities of listings in the area include ...    1.0   \n",
       "\n",
       "   llama3_zero_shot_score  llama3_few_shot_score  \n",
       "3                     0.8                    0.8  \n",
       "4                     0.0                    0.6  \n",
       "5                     0.6                    0.8  \n",
       "6                     0.9                    0.8  \n",
       "7                     0.8                    0.8  "
      ]
     },
     "execution_count": 22,
     "metadata": {},
     "output_type": "execute_result"
    }
   ],
   "source": [
    "df_temp[['project_description', 'feature', 'interpretation', \n",
    "         'score', 'llama3_zero_shot_score', 'llama3_few_shot_score']].head()"
   ]
  },
  {
   "cell_type": "code",
   "execution_count": 23,
   "metadata": {},
   "outputs": [
    {
     "data": {
      "text/html": [
       "<div>\n",
       "<style scoped>\n",
       "    .dataframe tbody tr th:only-of-type {\n",
       "        vertical-align: middle;\n",
       "    }\n",
       "\n",
       "    .dataframe tbody tr th {\n",
       "        vertical-align: top;\n",
       "    }\n",
       "\n",
       "    .dataframe thead th {\n",
       "        text-align: right;\n",
       "    }\n",
       "</style>\n",
       "<table border=\"1\" class=\"dataframe\">\n",
       "  <thead>\n",
       "    <tr style=\"text-align: right;\">\n",
       "      <th></th>\n",
       "      <th>project_description</th>\n",
       "      <th>feature</th>\n",
       "      <th>interpretation</th>\n",
       "      <th>score</th>\n",
       "      <th>llama3_zero_shot_score</th>\n",
       "      <th>llama3_few_shot_score</th>\n",
       "    </tr>\n",
       "  </thead>\n",
       "  <tbody>\n",
       "    <tr>\n",
       "      <th>3</th>\n",
       "      <td>Predict average price for AirBnb listings in a...</td>\n",
       "      <td>extractKeys(normalizedHistogram(flatten(amenit...</td>\n",
       "      <td>The words 'conditioning' and 'first' appear in...</td>\n",
       "      <td>1.0</td>\n",
       "      <td>0.50</td>\n",
       "      <td>0.8</td>\n",
       "    </tr>\n",
       "    <tr>\n",
       "      <th>4</th>\n",
       "      <td>Predict average price for AirBnb listings in a...</td>\n",
       "      <td>elementCount(slidingSubsets(flatten(amenities ...</td>\n",
       "      <td>The words 'kit' and 'tv' appear together more ...</td>\n",
       "      <td>1.0</td>\n",
       "      <td>0.25</td>\n",
       "      <td>0.8</td>\n",
       "    </tr>\n",
       "    <tr>\n",
       "      <th>5</th>\n",
       "      <td>Predict average price for AirBnb listings in a...</td>\n",
       "      <td>elementCount(slidingSubsets(flatten(amenities ...</td>\n",
       "      <td>A kitchen, a doorman and an elevator are inclu...</td>\n",
       "      <td>1.0</td>\n",
       "      <td>0.80</td>\n",
       "      <td>0.8</td>\n",
       "    </tr>\n",
       "    <tr>\n",
       "      <th>6</th>\n",
       "      <td>Predict average price for AirBnb listings in a...</td>\n",
       "      <td>mapKeysToTextList(histogram(flatten(amenities ...</td>\n",
       "      <td>The words 'detector', 'essentials', 'shampoo',...</td>\n",
       "      <td>1.0</td>\n",
       "      <td>0.80</td>\n",
       "      <td>0.8</td>\n",
       "    </tr>\n",
       "    <tr>\n",
       "      <th>7</th>\n",
       "      <td>Predict average price for AirBnb listings in a...</td>\n",
       "      <td>flatten(extractKeys(histogram(amenities of zip...</td>\n",
       "      <td>The amenities of listings in the area include ...</td>\n",
       "      <td>1.0</td>\n",
       "      <td>0.50</td>\n",
       "      <td>0.9</td>\n",
       "    </tr>\n",
       "  </tbody>\n",
       "</table>\n",
       "</div>"
      ],
      "text/plain": [
       "                                 project_description  \\\n",
       "3  Predict average price for AirBnb listings in a...   \n",
       "4  Predict average price for AirBnb listings in a...   \n",
       "5  Predict average price for AirBnb listings in a...   \n",
       "6  Predict average price for AirBnb listings in a...   \n",
       "7  Predict average price for AirBnb listings in a...   \n",
       "\n",
       "                                             feature  \\\n",
       "3  extractKeys(normalizedHistogram(flatten(amenit...   \n",
       "4  elementCount(slidingSubsets(flatten(amenities ...   \n",
       "5  elementCount(slidingSubsets(flatten(amenities ...   \n",
       "6  mapKeysToTextList(histogram(flatten(amenities ...   \n",
       "7  flatten(extractKeys(histogram(amenities of zip...   \n",
       "\n",
       "                                      interpretation  score  \\\n",
       "3  The words 'conditioning' and 'first' appear in...    1.0   \n",
       "4  The words 'kit' and 'tv' appear together more ...    1.0   \n",
       "5  A kitchen, a doorman and an elevator are inclu...    1.0   \n",
       "6  The words 'detector', 'essentials', 'shampoo',...    1.0   \n",
       "7  The amenities of listings in the area include ...    1.0   \n",
       "\n",
       "   llama3_zero_shot_score  llama3_few_shot_score  \n",
       "3                    0.50                    0.8  \n",
       "4                    0.25                    0.8  \n",
       "5                    0.80                    0.8  \n",
       "6                    0.80                    0.8  \n",
       "7                    0.50                    0.9  "
      ]
     },
     "execution_count": 23,
     "metadata": {},
     "output_type": "execute_result"
    }
   ],
   "source": [
    "data['llama3_zero_shot_score'] = data.apply(lambda row: score_with_llama(row), axis=1)\n",
    "data['llama3_few_shot_score'] = data.apply(lambda row: score_with_llama(row, few_shot_examples), axis=1)\n",
    "\n",
    "\n",
    "data[['project_description', 'feature', 'interpretation', \n",
    "      'score', 'llama3_zero_shot_score', 'llama3_few_shot_score']].head()"
   ]
  },
  {
   "cell_type": "code",
   "execution_count": 28,
   "metadata": {},
   "outputs": [],
   "source": [
    "data = pd.read_csv(r\"C:\\Users\\eriki\\OneDrive\\Documents\\all_folder\\Job_interviews\\Assignments\\SparkBeyond\\llama3_with_results.csv\")"
   ]
  },
  {
   "cell_type": "markdown",
   "metadata": {},
   "source": [
    "## Evaluation of performance"
   ]
  },
  {
   "cell_type": "code",
   "execution_count": 29,
   "metadata": {},
   "outputs": [
    {
     "name": "stdout",
     "output_type": "stream",
     "text": [
      "Baseline MSE: 0.32920774193548386\n",
      "LLaMA MSE: 0.4070201612903226\n",
      "Baseline RMSE: 0.5737662781442316\n",
      "LLaMA RMSE: 0.6379813173521013\n",
      "Baseline R²: -0.3168309677419354\n",
      "LLaMA R²: -0.6280806451612904\n"
     ]
    }
   ],
   "source": [
    "from sklearn.metrics import mean_squared_error, r2_score\n",
    "import numpy as np\n",
    "\n",
    "llama_zero_shot_mse = mean_squared_error(data['score'], data['llama3_zero_shot_score'])\n",
    "llama_few_shot_mse = mean_squared_error(data['score'], data['llama3_few_shot_score'])\n",
    "\n",
    "baseline_rmse = np.sqrt(llama_zero_shot_mse)\n",
    "llama_rmse = np.sqrt(llama_few_shot_mse)\n",
    "\n",
    "# Calculate R^2 for both models\n",
    "baseline_r2 = r2_score(data['score'], data['llama3_zero_shot_score'])\n",
    "llama_r2 = r2_score(data['score'], data['llama3_few_shot_score'])\n",
    "\n",
    "print(f\"Baseline MSE: {llama_zero_shot_mse}\")\n",
    "print(f\"LLaMA MSE: {llama_few_shot_mse}\")\n",
    "print(f\"Baseline RMSE: {baseline_rmse}\")\n",
    "print(f\"LLaMA RMSE: {llama_rmse}\")\n",
    "print(f\"Baseline R²: {baseline_r2}\")\n",
    "print(f\"LLaMA R²: {llama_r2}\")"
   ]
  },
  {
   "cell_type": "markdown",
   "metadata": {},
   "source": [
    "### Without seen projects"
   ]
  },
  {
   "cell_type": "code",
   "execution_count": 30,
   "metadata": {},
   "outputs": [],
   "source": [
    "def get_seen_projects(few_shot_examples):\n",
    "    return [example['project_description'] for example in few_shot_examples]\n",
    "\n",
    "seen_projects = get_seen_projects(few_shot_examples)\n",
    "\n",
    "def subset_unseen_projects(df, seen_projects):\n",
    "    return df[~df['project_description'].isin(seen_projects)]\n",
    "\n",
    "unseen_data = subset_unseen_projects(data, seen_projects)"
   ]
  },
  {
   "cell_type": "code",
   "execution_count": 31,
   "metadata": {},
   "outputs": [
    {
     "name": "stdout",
     "output_type": "stream",
     "text": [
      "Zero Shot MSE: 0.32984255319148936\n",
      "Few Shot MSE: 0.40671440261865793\n",
      "Zero Shot RMSE: 0.5743192084472618\n",
      "Few Shot RMSE: 0.6377416425314077\n",
      "Zero Shot R²: -0.31937021276595745\n",
      "Few Shot R²: -0.6268576104746317\n"
     ]
    }
   ],
   "source": [
    "gpt_zero_shot_mse = mean_squared_error(unseen_data['score'], unseen_data['llama3_zero_shot_score'])\n",
    "gpt_few_shot_mse = mean_squared_error(unseen_data['score'], unseen_data['llama3_few_shot_score'])\n",
    "\n",
    "gpt_zero_shot_rmse = np.sqrt(gpt_zero_shot_mse)\n",
    "gpt_few_shot_rmse = np.sqrt(gpt_few_shot_mse)\n",
    "\n",
    "# Calculate R^2 for both models\n",
    "zero_shot_r2 = r2_score(unseen_data['score'], unseen_data['llama3_zero_shot_score'])\n",
    "few_shot_r2 = r2_score(unseen_data['score'], unseen_data['llama3_few_shot_score'])\n",
    "\n",
    "print(f\"Zero Shot MSE: {gpt_zero_shot_mse}\")\n",
    "print(f\"Few Shot MSE: {gpt_few_shot_mse}\")\n",
    "print(f\"Zero Shot RMSE: {gpt_zero_shot_rmse}\")\n",
    "print(f\"Few Shot RMSE: {gpt_few_shot_rmse}\")\n",
    "print(f\"Zero Shot R²: {zero_shot_r2}\")\n",
    "print(f\"Few Shot R²: {few_shot_r2}\")"
   ]
  },
  {
   "cell_type": "code",
   "execution_count": 27,
   "metadata": {},
   "outputs": [],
   "source": [
    "# Save the data with the LLaMA scores\n",
    "data.to_csv(r\"C:\\Users\\eriki\\OneDrive\\Documents\\all_folder\\Job_interviews\\Assignments\\SparkBeyond\\llama3_with_results_09_01.csv\", index=False)"
   ]
  },
  {
   "cell_type": "code",
   "execution_count": null,
   "metadata": {},
   "outputs": [],
   "source": []
  }
 ],
 "metadata": {
  "kernelspec": {
   "display_name": "VFenv",
   "language": "python",
   "name": "python3"
  },
  "language_info": {
   "codemirror_mode": {
    "name": "ipython",
    "version": 3
   },
   "file_extension": ".py",
   "mimetype": "text/x-python",
   "name": "python",
   "nbconvert_exporter": "python",
   "pygments_lexer": "ipython3",
   "version": "3.11.4"
  }
 },
 "nbformat": 4,
 "nbformat_minor": 2
}
